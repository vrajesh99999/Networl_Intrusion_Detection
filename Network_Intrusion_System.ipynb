{
 "cells": [
  {
   "cell_type": "code",
   "execution_count": 0,
   "metadata": {
    "colab": {},
    "colab_type": "code",
    "id": "kkz8-hFN8m12"
   },
   "outputs": [],
   "source": [
    "import math\n",
    "import pandas as pd\n",
    "import numpy as np\n",
    "import pandas as pd\n",
    "import io\n",
    "import requests\n",
    "import numpy as np\n",
    "from sklearn import metrics\n",
    "from keras.models import Sequential\n",
    "from keras.layers.core import Dense, Activation\n",
    "from keras.callbacks import EarlyStopping\n",
    "from keras.callbacks import ModelCheckpoint\n",
    "from keras import optimizers\n",
    "import collections\n",
    "from sklearn import preprocessing\n",
    "import keras\n",
    "from keras.datasets import mnist\n",
    "from keras.models import Sequential\n",
    "from keras.layers import Dense, Dropout, Flatten\n",
    "from keras.layers import Conv2D, MaxPooling2D\n",
    "from keras.optimizers import Adam\n",
    "from sklearn.model_selection import train_test_split\n",
    "\n",
    "# Encode text values to indexes(i.e. [1],[2],[3] for red,green,blue).\n",
    "def encode_text_index(df, name):\n",
    "    le = preprocessing.LabelEncoder()\n",
    "    df[name] = le.fit_transform(df[name])\n",
    "    return le.classes_\n",
    "  \n",
    "# Encode text values to dummy variables(i.e. [1,0,0],[0,1,0],[0,0,1] for red,green,blue)\n",
    "def encode_text_dummy(df, name):\n",
    "    dummies = pd.get_dummies(df[name])\n",
    "    for x in dummies.columns:\n",
    "        dummy_name = \"{}-{}\".format(name, x)\n",
    "        df[dummy_name] = dummies[x]\n",
    "    df.drop(name, axis=1, inplace=True)\n",
    "    \n",
    "# Encode a column to a range between normalized_low and normalized_high.\n",
    "def encode_numeric_range(df, name, normalized_low=0, normalized_high=1,\n",
    "                         data_low=None, data_high=None):\n",
    "    if data_low is None:\n",
    "        data_low = min(df[name])\n",
    "        data_high = max(df[name])\n",
    "\n",
    "    df[name] = ((df[name] - data_low) / (data_high - data_low)) \\\n",
    "               * (normalized_high - normalized_low) + normalized_low\n",
    "    \n",
    "%matplotlib inline\n",
    "import matplotlib.pyplot as plt\n",
    "from sklearn.metrics import roc_curve, auc\n",
    "\n",
    "# Plot a confusion matrix.\n",
    "# cm is the confusion matrix, names are the names of the classes.\n",
    "def plot_confusion_matrix(cm, names, title='Confusion matrix', cmap=plt.cm.Blues):\n",
    "    plt.imshow(cm, interpolation='nearest', cmap=cmap)\n",
    "    plt.title(title)\n",
    "    plt.colorbar()\n",
    "    tick_marks = np.arange(len(names))\n",
    "    plt.xticks(tick_marks, names, rotation=45)\n",
    "    plt.yticks(tick_marks, names)\n",
    "    plt.tight_layout()\n",
    "    plt.ylabel('True label')\n",
    "    plt.xlabel('Predicted label')\n",
    "    \n",
    "# Plot an ROC. pred - the predictions, y - the expected output.\n",
    "def plot_roc(pred,y):\n",
    "    fpr, tpr, thresholds = roc_curve(y, pred)\n",
    "    roc_auc = auc(fpr, tpr)\n",
    "\n",
    "    plt.figure()\n",
    "    plt.plot(fpr, tpr, label='ROC curve (area = %0.2f)' % roc_auc)\n",
    "    plt.plot([0, 1], [0, 1], 'k--')\n",
    "    plt.xlim([0.0, 1.0])\n",
    "    plt.ylim([0.0, 1.05])\n",
    "    plt.xlabel('False Positive Rate')\n",
    "    plt.ylabel('True Positive Rate')\n",
    "    plt.title('Receiver Operating Characteristic (ROC)')\n",
    "    plt.legend(loc=\"lower right\")\n",
    "    plt.show()    \n",
    "    \n",
    "\n",
    "def perturbation_rank(model, x, y, names, regression):\n",
    "    errors = []\n",
    "\n",
    "    for i in range(x.shape[1]):\n",
    "        hold = np.array(x[:, i])\n",
    "        np.random.shuffle(x[:, i])\n",
    "        \n",
    "        if regression:\n",
    "            pred = model.predict(x)\n",
    "            error = metrics.mean_squared_error(y, pred)\n",
    "        else:\n",
    "            pred = model.predict_proba(x)\n",
    "            error = metrics.log_loss(y, pred)\n",
    "            \n",
    "        errors.append(error)\n",
    "        x[:, i] = hold\n",
    "        \n",
    "    max_error = np.max(errors)\n",
    "    importance = [e/max_error for e in errors]\n",
    "\n",
    "    data = {'name':names,'error':errors,'importance':importance}\n",
    "    result = pd.DataFrame(data, columns = ['name','error','importance'])\n",
    "    result.sort_values(by=['importance'], ascending=[0], inplace=True)\n",
    "    result.reset_index(inplace=True, drop=True)\n",
    "    return result\n",
    "  \n",
    "  # Nicely formatted time string\n",
    "def hms_string(sec_elapsed):\n",
    "    h = int(sec_elapsed / (60 * 60))\n",
    "    m = int((sec_elapsed % (60 * 60)) / 60)\n",
    "    s = sec_elapsed % 60\n",
    "    return \"{}:{:>02}:{:>05.2f}\".format(h, m, s)\n",
    "\n",
    "# Convert a Pandas dataframe to the x,y inputs that TensorFlow needs\n",
    "def to_xy(df, target):\n",
    "    result = []\n",
    "    for x in df.columns:\n",
    "        if x != target:\n",
    "            result.append(x)\n",
    "    # find out the type of the target column. \n",
    "    target_type = df[target].dtypes\n",
    "    target_type = target_type[0] if isinstance(target_type, collections.Sequence) else target_type\n",
    "    # Encode to int for classification, float otherwise. TensorFlow likes 32 bits.\n",
    "    if target_type in (np.int64, np.int32):\n",
    "        # Classification\n",
    "        dummies = pd.get_dummies(df[target])\n",
    "        return df[result].values.astype(np.float32), dummies.values.astype(np.float32)\n",
    "    else:\n",
    "        # Regression\n",
    "        return df[result].values.astype(np.float32), df[target].values.astype(np.float32)\n",
    "      \n",
    "def class_connection(x):\n",
    "  if(x=='normal.'):\n",
    "    x=0\n",
    "  else:\n",
    "    x=1\n",
    "  return x\n",
    "    "
   ]
  },
  {
   "cell_type": "code",
   "execution_count": 113,
   "metadata": {
    "colab": {
     "base_uri": "https://localhost:8080/",
     "height": 34
    },
    "colab_type": "code",
    "id": "Gu4ERJ7W8q2w",
    "outputId": "e7b11c47-5c01-404f-da7a-07f79d50a891"
   },
   "outputs": [
    {
     "data": {
      "text/plain": [
       "(494020, 42)"
      ]
     },
     "execution_count": 113,
     "metadata": {
      "tags": []
     },
     "output_type": "execute_result"
    }
   ],
   "source": [
    "#Reading data from csv\n",
    "df_network = pd.read_csv('network_intrusion_data.csv', encoding=\"utf-8\")\n",
    "df_network.shape"
   ]
  },
  {
   "cell_type": "code",
   "execution_count": 0,
   "metadata": {
    "colab": {},
    "colab_type": "code",
    "id": "tDo5uSSH8xp3"
   },
   "outputs": [],
   "source": [
    "#Titles for dataframe\n",
    "df_network.columns = [\n",
    " 'duration',\n",
    " 'protocol_type',\n",
    " 'service',\n",
    " 'flag',\n",
    " 'src_bytes',\n",
    " 'dst_bytes',\n",
    " 'land',\n",
    " 'wrong_fragment',\n",
    " 'urgent',\n",
    " 'hot',\n",
    " 'num_failed_logins',\n",
    " 'logged_in',\n",
    " 'num_compromised',\n",
    " 'root_shell',\n",
    " 'su_attempted',\n",
    " 'num_root',\n",
    " 'num_file_creations',\n",
    " 'num_shells',\n",
    " 'num_access_files',\n",
    " 'num_outbound_cmds',\n",
    " 'is_host_login',\n",
    " 'is_guest_login',\n",
    " 'count',\n",
    " 'srv_count',\n",
    " 'serror_rate',\n",
    " 'srv_serror_rate',\n",
    " 'rerror_rate',\n",
    " 'srv_rerror_rate',\n",
    " 'same_srv_rate',\n",
    " 'diff_srv_rate',\n",
    " 'srv_diff_host_rate',\n",
    " 'dst_host_count',\n",
    " 'dst_host_srv_count',\n",
    " 'dst_host_same_srv_rate',\n",
    " 'dst_host_diff_srv_rate',\n",
    " 'dst_host_same_src_port_rate',\n",
    " 'dst_host_srv_diff_host_rate',\n",
    " 'dst_host_serror_rate',\n",
    " 'dst_host_srv_serror_rate',\n",
    " 'dst_host_rerror_rate',\n",
    " 'dst_host_srv_rerror_rate',\n",
    " 'outcome'\n",
    "]\n",
    "df_network[0:5]\n",
    "df_outcome_multiclass = df_network['outcome']"
   ]
  },
  {
   "cell_type": "code",
   "execution_count": 115,
   "metadata": {
    "colab": {
     "base_uri": "https://localhost:8080/",
     "height": 34
    },
    "colab_type": "code",
    "id": "tvgXYL_wHG9S",
    "outputId": "613159a0-0839-45d2-c26d-2141f44b52d2"
   },
   "outputs": [
    {
     "data": {
      "text/plain": [
       "(145585, 42)"
      ]
     },
     "execution_count": 115,
     "metadata": {
      "tags": []
     },
     "output_type": "execute_result"
    }
   ],
   "source": [
    "#Removes duplicate rows\n",
    "df_network = df_network.drop_duplicates()\n",
    "df_network.shape"
   ]
  },
  {
   "cell_type": "code",
   "execution_count": 116,
   "metadata": {
    "colab": {
     "base_uri": "https://localhost:8080/",
     "height": 34
    },
    "colab_type": "code",
    "id": "XLxkFKUiVgzV",
    "outputId": "b30a3901-4b31-48aa-9f3b-b81512a3d19c"
   },
   "outputs": [
    {
     "data": {
      "text/plain": [
       "(145585, 42)"
      ]
     },
     "execution_count": 116,
     "metadata": {
      "tags": []
     },
     "output_type": "execute_result"
    }
   ],
   "source": [
    "#removing null values\n",
    "df_network = df_network.dropna(how='any',axis=0)\n",
    "df_network.shape"
   ]
  },
  {
   "cell_type": "code",
   "execution_count": 0,
   "metadata": {
    "colab": {},
    "colab_type": "code",
    "id": "u3f9yTXwJe7x"
   },
   "outputs": [],
   "source": [
    "#One-hot encoding on categorical \n",
    "encode_text_dummy(df_network, 'protocol_type')\n",
    "encode_text_dummy(df_network, 'service')\n",
    "encode_text_dummy(df_network, 'flag')\n",
    "encode_text_dummy(df_network, 'land')\n",
    "encode_text_dummy(df_network, 'logged_in')\n",
    "encode_text_dummy(df_network, 'is_host_login')\n",
    "encode_text_dummy(df_network, 'is_guest_login')"
   ]
  },
  {
   "cell_type": "code",
   "execution_count": 0,
   "metadata": {
    "colab": {},
    "colab_type": "code",
    "id": "Gr0uUrsnLMoH"
   },
   "outputs": [],
   "source": [
    "#Feature normalization\n",
    "encode_numeric_range(df_network, 'duration')\n",
    "encode_numeric_range(df_network, 'src_bytes')\n",
    "encode_numeric_range(df_network, 'dst_bytes')\n",
    "encode_numeric_range(df_network, 'wrong_fragment')\n",
    "encode_numeric_range(df_network, 'urgent')\n",
    "encode_numeric_range(df_network, 'hot')\n",
    "encode_numeric_range(df_network, 'num_failed_logins')\n",
    "encode_numeric_range(df_network, 'num_compromised')\n",
    "encode_numeric_range(df_network, 'root_shell')\n",
    "encode_numeric_range(df_network, 'su_attempted')\n",
    "encode_numeric_range(df_network, 'num_root')\n",
    "encode_numeric_range(df_network, 'num_file_creations')\n",
    "encode_numeric_range(df_network, 'num_shells')\n",
    "encode_numeric_range(df_network, 'num_access_files')\n",
    "encode_numeric_range(df_network, 'count')\n",
    "encode_numeric_range(df_network, 'srv_count')\n",
    "encode_numeric_range(df_network, 'serror_rate')\n",
    "encode_numeric_range(df_network, 'srv_serror_rate')\n",
    "encode_numeric_range(df_network, 'rerror_rate')\n",
    "encode_numeric_range(df_network, 'srv_rerror_rate')\n",
    "encode_numeric_range(df_network, 'same_srv_rate')\n",
    "encode_numeric_range(df_network, 'diff_srv_rate')\n",
    "encode_numeric_range(df_network, 'srv_diff_host_rate')\n",
    "encode_numeric_range(df_network, 'dst_host_count')\n",
    "encode_numeric_range(df_network, 'dst_host_srv_count')\n",
    "encode_numeric_range(df_network, 'dst_host_same_srv_rate')\n",
    "encode_numeric_range(df_network, 'dst_host_diff_srv_rate')\n",
    "encode_numeric_range(df_network, 'dst_host_same_src_port_rate')\n",
    "encode_numeric_range(df_network, 'dst_host_srv_diff_host_rate')\n",
    "encode_numeric_range(df_network, 'dst_host_serror_rate')\n",
    "encode_numeric_range(df_network, 'dst_host_srv_serror_rate')\n",
    "encode_numeric_range(df_network, 'dst_host_rerror_rate')\n",
    "encode_numeric_range(df_network, 'dst_host_srv_rerror_rate')"
   ]
  },
  {
   "cell_type": "code",
   "execution_count": 119,
   "metadata": {
    "colab": {
     "base_uri": "https://localhost:8080/",
     "height": 34
    },
    "colab_type": "code",
    "id": "NnlfEJzzNcxr",
    "outputId": "110998db-44e6-407e-a1ff-088089868273"
   },
   "outputs": [
    {
     "data": {
      "text/plain": [
       "(145585, 122)"
      ]
     },
     "execution_count": 119,
     "metadata": {
      "tags": []
     },
     "output_type": "execute_result"
    }
   ],
   "source": [
    "df_network.shape"
   ]
  },
  {
   "cell_type": "code",
   "execution_count": 0,
   "metadata": {
    "colab": {},
    "colab_type": "code",
    "id": "Q3EjyaRtbP7J"
   },
   "outputs": [],
   "source": [
    "#Coverting outcome in 0 and 1\n",
    "df_network['outcome']=df_network['outcome'].apply(class_connection)"
   ]
  },
  {
   "cell_type": "code",
   "execution_count": 121,
   "metadata": {
    "colab": {
     "base_uri": "https://localhost:8080/",
     "height": 34
    },
    "colab_type": "code",
    "id": "-M8Lq6C-gFVm",
    "outputId": "1fbf8a77-bfd5-4722-ce40-7ca83e70fb4a"
   },
   "outputs": [
    {
     "data": {
      "text/plain": [
       "array([0, 1])"
      ]
     },
     "execution_count": 121,
     "metadata": {
      "tags": []
     },
     "output_type": "execute_result"
    }
   ],
   "source": [
    "#for printing confusion matrix\n",
    "out=df_network['outcome'].values\n",
    "outcome=(np.unique(out))\n",
    "outcome"
   ]
  },
  {
   "cell_type": "code",
   "execution_count": 122,
   "metadata": {
    "colab": {
     "base_uri": "https://localhost:8080/",
     "height": 34
    },
    "colab_type": "code",
    "id": "m0nkHEoiiANT",
    "outputId": "f96b14c5-0165-465c-c608-840c5275633c"
   },
   "outputs": [
    {
     "data": {
      "text/plain": [
       "((145585, 121), (145585,))"
      ]
     },
     "execution_count": 122,
     "metadata": {
      "tags": []
     },
     "output_type": "execute_result"
    }
   ],
   "source": [
    "#prepares x and y\n",
    "x_df=df_network.drop('outcome', 1)\n",
    "x=x_df.values\n",
    "y=df_network['outcome'].values\n",
    "x.shape, y.shape"
   ]
  },
  {
   "cell_type": "code",
   "execution_count": 83,
   "metadata": {
    "colab": {
     "base_uri": "https://localhost:8080/",
     "height": 34
    },
    "colab_type": "code",
    "id": "jHwG2spYjL90",
    "outputId": "b5959635-fc70-41d6-c3c7-ed25665c1963"
   },
   "outputs": [
    {
     "data": {
      "text/plain": [
       "((116468, 121), (29117, 121), (116468,), (29117,))"
      ]
     },
     "execution_count": 83,
     "metadata": {
      "tags": []
     },
     "output_type": "execute_result"
    }
   ],
   "source": [
    "#splitting data into training and testing\n",
    "X_Train, X_Test, Y_Train, Y_Test = train_test_split(x, y, test_size=0.2, random_state=42)\n",
    "\n",
    "X_Train.shape, X_Test.shape, Y_Train.shape, Y_Test.shape"
   ]
  },
  {
   "cell_type": "markdown",
   "metadata": {},
   "source": [
    "## Logistic Regression"
   ]
  },
  {
   "cell_type": "code",
   "execution_count": 85,
   "metadata": {
    "colab": {
     "base_uri": "https://localhost:8080/",
     "height": 775
    },
    "colab_type": "code",
    "id": "iDcthAi6jWBN",
    "outputId": "1a8064a7-ffb5-4138-e6e9-bc178ca84090"
   },
   "outputs": [
    {
     "name": "stdout",
     "output_type": "stream",
     "text": [
      "Final accuracy: 0.9876704330803311\n",
      "[[17479   110]\n",
      " [  249 11279]]\n",
      "Plotting confusion matrix\n"
     ]
    },
    {
     "data": {
      "image/png": "[encoded data removed]",
      "text/plain": [
       "<matplotlib.figure.Figure at 0x7f807c0d9ef0>"
      ]
     },
     "metadata": {
      "tags": []
     },
     "output_type": "display_data"
    },
    {
     "name": "stdout",
     "output_type": "stream",
     "text": [
      "             precision    recall  f1-score   support\n",
      "\n",
      "          0       0.99      0.99      0.99     17589\n",
      "          1       0.99      0.98      0.98     11528\n",
      "\n",
      "avg / total       0.99      0.99      0.99     29117\n",
      "\n"
     ]
    },
    {
     "data": {
      "image/png": "[encoded data removed]",
      "text/plain": [
       "<matplotlib.figure.Figure at 0x7f807b314940>"
      ]
     },
     "metadata": {
      "tags": []
     },
     "output_type": "display_data"
    }
   ],
   "source": [
    "#Logistic Reg\n",
    "\n",
    "# import the class\n",
    "from sklearn.linear_model import LogisticRegression\n",
    "import sklearn.metrics as metrics\n",
    "# instantiate the model (using the default parameters)\n",
    "logreg = LogisticRegression()\n",
    "\n",
    "# fit the model with data\n",
    "logreg.fit(X_Train, Y_Train)\n",
    "\n",
    "# predict the response for new observations\n",
    "logreg_pred = logreg.predict(X_Test)\n",
    "\n",
    "#accuracy\n",
    "score = metrics.accuracy_score(Y_Test, logreg_pred)\n",
    "print(\"Final accuracy: {}\".format(score))\n",
    "\n",
    "cm = metrics.confusion_matrix(Y_Test, logreg_pred)  \n",
    "print(cm)\n",
    "\n",
    "print('Plotting confusion matrix')\n",
    "\n",
    "plt.figure()\n",
    "plot_confusion_matrix(cm, outcome)\n",
    "plt.show()\n",
    "\n",
    "print(metrics.classification_report(Y_Test, logreg_pred))\n",
    "\n",
    "plot_roc(logreg_pred,Y_Test)"
   ]
  },
  {
   "cell_type": "markdown",
   "metadata": {},
   "source": [
    "## SVM"
   ]
  },
  {
   "cell_type": "code",
   "execution_count": 133,
   "metadata": {
    "colab": {
     "base_uri": "https://localhost:8080/",
     "height": 775
    },
    "colab_type": "code",
    "id": "379d9ISw6if9",
    "outputId": "a977c941-bfae-44df-aac8-98270561355c"
   },
   "outputs": [
    {
     "name": "stdout",
     "output_type": "stream",
     "text": [
      "Final accuracy: 0.9921351787615482\n",
      "[[17496    93]\n",
      " [  136 11392]]\n",
      "Plotting confusion matrix\n"
     ]
    },
    {
     "data": {
      "image/png": "[encoded data removed]",
      "text/plain": [
       "<matplotlib.figure.Figure at 0x7fd965d3b2e8>"
      ]
     },
     "metadata": {
      "tags": []
     },
     "output_type": "display_data"
    },
    {
     "name": "stdout",
     "output_type": "stream",
     "text": [
      "             precision    recall  f1-score   support\n",
      "\n",
      "          0       0.99      0.99      0.99     17589\n",
      "          1       0.99      0.99      0.99     11528\n",
      "\n",
      "avg / total       0.99      0.99      0.99     29117\n",
      "\n"
     ]
    },
    {
     "data": {
      "image/png": "[encoded data removed]",
      "text/plain": [
       "<matplotlib.figure.Figure at 0x7fd965eb1588>"
      ]
     },
     "metadata": {
      "tags": []
     },
     "output_type": "display_data"
    }
   ],
   "source": [
    "#SVM\n",
    "\n",
    "from sklearn.svm import SVC\n",
    "import sklearn.metrics as metrics\n",
    "\n",
    "clf = SVC(kernel='linear')\n",
    "clf.fit(X_Train, Y_Train)\n",
    "\n",
    "svm_pred = clf.predict(X_Test)\n",
    "\n",
    "#accuracy\n",
    "score = metrics.accuracy_score(Y_Test, svm_pred)\n",
    "print(\"Final accuracy: {}\".format(score))\n",
    "\n",
    "cm = metrics.confusion_matrix(Y_Test, svm_pred)  \n",
    "print(cm)\n",
    "\n",
    "print('Plotting confusion matrix')\n",
    "\n",
    "plt.figure()\n",
    "plot_confusion_matrix(cm, outcome)\n",
    "plt.show()\n",
    "\n",
    "print(metrics.classification_report(Y_Test, svm_pred))\n",
    "\n",
    "plot_roc(svm_pred,Y_Test)"
   ]
  },
  {
   "cell_type": "markdown",
   "metadata": {},
   "source": [
    "## Nearnest Neighbor "
   ]
  },
  {
   "cell_type": "code",
   "execution_count": 134,
   "metadata": {
    "colab": {
     "base_uri": "https://localhost:8080/",
     "height": 775
    },
    "colab_type": "code",
    "id": "FCpcx-wO6wNl",
    "outputId": "b6b76b7f-dab0-4823-dc0a-0ed4cccf4baa"
   },
   "outputs": [
    {
     "name": "stdout",
     "output_type": "stream",
     "text": [
      "Final accuracy: 0.9964282034550263\n",
      "[[17554    35]\n",
      " [   69 11459]]\n",
      "Plotting confusion matrix\n"
     ]
    },
    {
     "data": {
      "image/png": "[encoded data removed]",
      "text/plain": [
       "<matplotlib.figure.Figure at 0x7fd969f4fba8>"
      ]
     },
     "metadata": {
      "tags": []
     },
     "output_type": "display_data"
    },
    {
     "name": "stdout",
     "output_type": "stream",
     "text": [
      "             precision    recall  f1-score   support\n",
      "\n",
      "          0       1.00      1.00      1.00     17589\n",
      "          1       1.00      0.99      1.00     11528\n",
      "\n",
      "avg / total       1.00      1.00      1.00     29117\n",
      "\n"
     ]
    },
    {
     "data": {
      "image/png": "[encoded data removed]",
      "text/plain": [
       "<matplotlib.figure.Figure at 0x7fd9776fee80>"
      ]
     },
     "metadata": {
      "tags": []
     },
     "output_type": "display_data"
    }
   ],
   "source": [
    "# Nearnest Neighbor\n",
    "\n",
    "from sklearn.neighbors import KNeighborsClassifier\n",
    "import sklearn.metrics as metrics\n",
    "\n",
    "knn = KNeighborsClassifier(n_neighbors=5)\n",
    "knn.fit(X_Train, Y_Train)\n",
    "knn_pred = knn.predict(X_Test)\n",
    "knn_pred\n",
    "\n",
    "#accuracy\n",
    "score = metrics.accuracy_score(Y_Test, knn_pred)\n",
    "print(\"Final accuracy: {}\".format(score))\n",
    "\n",
    "cm = metrics.confusion_matrix(Y_Test, knn_pred)  \n",
    "print(cm)\n",
    "\n",
    "print('Plotting confusion matrix')\n",
    "\n",
    "plt.figure()\n",
    "plot_confusion_matrix(cm, outcome)\n",
    "plt.show()\n",
    "\n",
    "print(metrics.classification_report(Y_Test, knn_pred))\n",
    "\n",
    "plot_roc(knn_pred,Y_Test)"
   ]
  },
  {
   "cell_type": "markdown",
   "metadata": {},
   "source": [
    "## Gaussian Naive Bayes "
   ]
  },
  {
   "cell_type": "code",
   "execution_count": null,
   "metadata": {
    "colab": {
     "base_uri": "https://localhost:8080/",
     "height": 775
    },
    "colab_type": "code",
    "id": "TxT3hbGhKprn",
    "outputId": "c0bc1490-f7f2-4888-c3b0-bd648e355bdc"
   },
   "outputs": [],
   "source": [
    "#Gaussian Naive Bayes\n",
    "from sklearn.naive_bayes import GaussianNB\n",
    "import sklearn.metrics as metrics\n",
    "clf = GaussianNB()\n",
    "clf.fit(X_Train, Y_Train)\n",
    "gnb_pred = clf.predict(X_Test)\n",
    "\n",
    "#accuracy\n",
    "score = metrics.accuracy_score(Y_Test, gnb_pred)\n",
    "print(\"Final accuracy: {}\".format(score))\n",
    "\n",
    "cm = metrics.confusion_matrix(Y_Test, gnb_pred)  \n",
    "print(cm)\n",
    "\n",
    "print('Plotting confusion matrix')\n",
    "\n",
    "plt.figure()\n",
    "plot_confusion_matrix(cm, outcome)\n",
    "plt.show()\n",
    "\n",
    "print(metrics.classification_report(Y_Test, gnb_pred))\n",
    "\n",
    "plot_roc(gnb_pred,Y_Test)"
   ]
  },
  {
   "cell_type": "markdown",
   "metadata": {
    "colab_type": "text",
    "id": "emnImCoGGHHe"
   },
   "source": [
    "## **Tensorflow**"
   ]
  },
  {
   "cell_type": "code",
   "execution_count": 123,
   "metadata": {
    "colab": {
     "base_uri": "https://localhost:8080/",
     "height": 34
    },
    "colab_type": "code",
    "id": "kHnRT4497EVC",
    "outputId": "b6bfefd8-d12b-4c80-f656-071fc9379b9f"
   },
   "outputs": [
    {
     "data": {
      "text/plain": [
       "(145585, 2)"
      ]
     },
     "execution_count": 123,
     "metadata": {
      "tags": []
     },
     "output_type": "execute_result"
    }
   ],
   "source": [
    "#one hot encoding on outcome\n",
    "y=pd.get_dummies(df_network['outcome'])\n",
    "y.shape"
   ]
  },
  {
   "cell_type": "code",
   "execution_count": 0,
   "metadata": {
    "colab": {},
    "colab_type": "code",
    "id": "bpG3k-15-Gid"
   },
   "outputs": [],
   "source": [
    "#splting Data into traing and testing\n",
    "x_train, x_test, y_train, y_test = train_test_split (x, y, test_size=0.20, random_state=45)"
   ]
  },
  {
   "cell_type": "code",
   "execution_count": 41,
   "metadata": {
    "colab": {
     "base_uri": "https://localhost:8080/",
     "height": 269
    },
    "colab_type": "code",
    "id": "-CLHuVj2-c6W",
    "outputId": "308ecc29-fec5-4eb5-9542-22500f65ff60"
   },
   "outputs": [
    {
     "name": "stdout",
     "output_type": "stream",
     "text": [
      "0\n",
      "Train on 116468 samples, validate on 29117 samples\n",
      "Epoch 1/150\n",
      " - 20s - loss: 0.0382 - val_loss: 0.0150\n",
      "Epoch 2/150\n",
      " - 20s - loss: 0.0113 - val_loss: 0.0096\n",
      "Epoch 3/150\n",
      " - 20s - loss: 0.0078 - val_loss: 0.0079\n",
      "Epoch 4/150\n",
      " - 20s - loss: 0.0068 - val_loss: 0.0074\n",
      "Epoch 5/150\n",
      " - 20s - loss: 0.0066 - val_loss: 0.0085\n",
      "Epoch 00005: early stopping\n",
      "Training finished...Loading the best model\n",
      "\n"
     ]
    }
   ],
   "source": [
    " # Activation=relu && optimizer = adam\n",
    "checkpointer = ModelCheckpoint(filepath=\"best_weights1.hdf5\", verbose=0, save_best_only=True) # save best model\n",
    "for i in range(3):\n",
    "    print(i)\n",
    "    model_adam_relu = Sequential()\n",
    "    model_adam_relu.add(Dense(50, input_dim=x.shape[1], activation='relu')) # Hidden 1\n",
    "    model_adam_relu.add(Dense(20, activation='relu')) # Hidden 2\n",
    "    model_adam_relu.add(Dense(y.shape[1], activation='softmax')) # Output\n",
    "    #rms=keras.optimizers.RMSprop(lr=0.001, rho=0.9, epsilon=None, decay=0.0)\n",
    "    adam = optimizers.Adam(lr=0.001, beta_1=0.9, beta_2=0.999, epsilon=None, amsgrad=False)\n",
    "    model_adam_relu.compile(loss='categorical_crossentropy', optimizer=adam)\n",
    "    monitor = EarlyStopping(monitor='val_loss', min_delta=1e-3, patience=2, verbose=2, mode='auto')\n",
    "    model_adam_relu.fit(x_train, y_train,validation_data=(x_test,y_test),callbacks=[monitor,checkpointer],verbose=2,epochs=150)\n",
    "print('Training finished...Loading the best model')  \n",
    "print()\n",
    "model_adam_relu.load_weights('best_weights.hdf5') # load weights from best model"
   ]
  },
  {
   "cell_type": "code",
   "execution_count": 42,
   "metadata": {
    "colab": {
     "base_uri": "https://localhost:8080/",
     "height": 757
    },
    "colab_type": "code",
    "id": "4qfVafhN-2aP",
    "outputId": "f7fbda72-69c2-44be-b4db-7609f8fb7b40"
   },
   "outputs": [
    {
     "name": "stdout",
     "output_type": "stream",
     "text": [
      "Accuracy: 0.9979736923446784\n",
      "[[17541    32]\n",
      " [   27 11517]]\n",
      "Plotting confusion matrix\n"
     ]
    },
    {
     "data": {
      "image/png": "[encoded data removed]",
      "text/plain": [
       "<matplotlib.figure.Figure at 0x7ffa49656e10>"
      ]
     },
     "metadata": {
      "tags": []
     },
     "output_type": "display_data"
    },
    {
     "name": "stdout",
     "output_type": "stream",
     "text": [
      "             precision    recall  f1-score   support\n",
      "\n",
      "          0       1.00      1.00      1.00     17573\n",
      "          1       1.00      1.00      1.00     11544\n",
      "\n",
      "avg / total       1.00      1.00      1.00     29117\n",
      "\n"
     ]
    },
    {
     "data": {
      "image/png": "[encoded data removed]",
      "text/plain": [
       "<matplotlib.figure.Figure at 0x7ffa463945f8>"
      ]
     },
     "metadata": {
      "tags": []
     },
     "output_type": "display_data"
    }
   ],
   "source": [
    "# Measure accuracy\n",
    "pred = model_adam_relu.predict(x_test)\n",
    "pred_attack = np.argmax(pred,axis=1)\n",
    "y_testarray=y_test.values\n",
    "y_true = np.argmax(y_testarray,axis=1)\n",
    "correct = metrics.accuracy_score(y_true, pred_attack)\n",
    "print(\"Accuracy: {}\".format(correct))\n",
    "y_true\n",
    "\n",
    "cm = metrics.confusion_matrix(y_true, pred_attack)  \n",
    "print(cm)\n",
    "\n",
    "print('Plotting confusion matrix')\n",
    "\n",
    "plt.figure()\n",
    "plot_confusion_matrix(cm, outcome)\n",
    "plt.show()\n",
    "\n",
    "print(metrics.classification_report(y_true, pred_attack))\n",
    "\n",
    "plot_roc(pred_attack,y_true)"
   ]
  },
  {
   "cell_type": "code",
   "execution_count": 53,
   "metadata": {
    "colab": {
     "base_uri": "https://localhost:8080/",
     "height": 1478
    },
    "colab_type": "code",
    "id": "xH__gaGcTgHf",
    "outputId": "61fef659-8be3-4449-dd17-673b6f842cc2"
   },
   "outputs": [
    {
     "name": "stdout",
     "output_type": "stream",
     "text": [
      "0\n",
      "Train on 116468 samples, validate on 29117 samples\n",
      "Epoch 1/150\n",
      " - 16s - loss: 0.0920 - val_loss: 0.0586\n",
      "Epoch 2/150\n",
      " - 17s - loss: 0.0488 - val_loss: 0.0444\n",
      "Epoch 3/150\n",
      " - 16s - loss: 0.0400 - val_loss: 0.0378\n",
      "Epoch 4/150\n",
      " - 15s - loss: 0.0354 - val_loss: 0.0343\n",
      "Epoch 5/150\n",
      " - 15s - loss: 0.0322 - val_loss: 0.0312\n",
      "Epoch 6/150\n",
      " - 15s - loss: 0.0299 - val_loss: 0.0291\n",
      "Epoch 7/150\n",
      " - 16s - loss: 0.0281 - val_loss: 0.0287\n",
      "Epoch 8/150\n",
      " - 15s - loss: 0.0267 - val_loss: 0.0293\n",
      "Epoch 00008: early stopping\n",
      "1\n",
      "Train on 116468 samples, validate on 29117 samples\n",
      "Epoch 1/150\n",
      " - 16s - loss: 0.0976 - val_loss: 0.0599\n",
      "Epoch 2/150\n",
      " - 15s - loss: 0.0514 - val_loss: 0.0479\n",
      "Epoch 3/150\n",
      " - 15s - loss: 0.0428 - val_loss: 0.0409\n",
      "Epoch 4/150\n",
      " - 15s - loss: 0.0381 - val_loss: 0.0380\n",
      "Epoch 5/150\n",
      " - 15s - loss: 0.0351 - val_loss: 0.0345\n",
      "Epoch 6/150\n",
      " - 15s - loss: 0.0326 - val_loss: 0.0323\n",
      "Epoch 7/150\n",
      " - 15s - loss: 0.0308 - val_loss: 0.0307\n",
      "Epoch 8/150\n",
      " - 15s - loss: 0.0291 - val_loss: 0.0292\n",
      "Epoch 9/150\n",
      " - 15s - loss: 0.0274 - val_loss: 0.0292\n",
      "Epoch 10/150\n",
      " - 15s - loss: 0.0260 - val_loss: 0.0263\n",
      "Epoch 11/150\n",
      " - 15s - loss: 0.0248 - val_loss: 0.0243\n",
      "Epoch 12/150\n",
      " - 15s - loss: 0.0237 - val_loss: 0.0236\n",
      "Epoch 13/150\n",
      " - 15s - loss: 0.0227 - val_loss: 0.0225\n",
      "Epoch 14/150\n",
      " - 16s - loss: 0.0217 - val_loss: 0.0217\n",
      "Epoch 15/150\n",
      " - 16s - loss: 0.0209 - val_loss: 0.0222\n",
      "Epoch 00015: early stopping\n",
      "2\n",
      "Train on 116468 samples, validate on 29117 samples\n",
      "Epoch 1/150\n",
      " - 15s - loss: 0.0810 - val_loss: 0.0544\n",
      "Epoch 2/150\n",
      " - 15s - loss: 0.0476 - val_loss: 0.0440\n",
      "Epoch 3/150\n",
      " - 15s - loss: 0.0404 - val_loss: 0.0391\n",
      "Epoch 4/150\n",
      " - 15s - loss: 0.0366 - val_loss: 0.0357\n",
      "Epoch 5/150\n",
      " - 15s - loss: 0.0340 - val_loss: 0.0335\n",
      "Epoch 6/150\n",
      " - 15s - loss: 0.0320 - val_loss: 0.0315\n",
      "Epoch 7/150\n",
      " - 15s - loss: 0.0304 - val_loss: 0.0300\n",
      "Epoch 8/150\n",
      " - 15s - loss: 0.0288 - val_loss: 0.0288\n",
      "Epoch 9/150\n",
      " - 15s - loss: 0.0276 - val_loss: 0.0278\n",
      "Epoch 10/150\n",
      " - 15s - loss: 0.0264 - val_loss: 0.0261\n",
      "Epoch 11/150\n",
      " - 15s - loss: 0.0251 - val_loss: 0.0251\n",
      "Epoch 12/150\n",
      " - 15s - loss: 0.0239 - val_loss: 0.0238\n",
      "Epoch 13/150\n",
      " - 15s - loss: 0.0229 - val_loss: 0.0227\n",
      "Epoch 14/150\n",
      " - 15s - loss: 0.0220 - val_loss: 0.0220\n",
      "Epoch 15/150\n",
      " - 15s - loss: 0.0210 - val_loss: 0.0220\n",
      "Epoch 00015: early stopping\n",
      "Training finished...Loading the best model\n",
      "\n"
     ]
    }
   ],
   "source": [
    " # Activation=relu && optimizer = sgd\n",
    "checkpointer = ModelCheckpoint(filepath=\"best_weights_relu_sgd.hdf5\", verbose=0, save_best_only=True) # save best model\n",
    "for i in range(3):\n",
    "    print(i)\n",
    "    model_sgd_relu = Sequential()\n",
    "    model_sgd_relu.add(Dense(50, input_dim=x.shape[1], activation='relu')) # Hidden 1\n",
    "    model_sgd_relu.add(Dense(20, activation='relu')) # Hidden 2\n",
    "    model_sgd_relu.add(Dense(y.shape[1], activation='softmax')) # Output\n",
    "    model_sgd_relu.compile(loss='categorical_crossentropy', optimizer='sgd')\n",
    "    monitor = EarlyStopping(monitor='val_loss', min_delta=1e-3, patience=2, verbose=2, mode='auto')\n",
    "    model_sgd_relu.fit(x_train, y_train,validation_data=(x_test,y_test),callbacks=[monitor,checkpointer],verbose=2,epochs=150)\n",
    "print('Training finished...Loading the best model')  \n",
    "print()\n",
    "model_sgd_relu.load_weights('best_weights_relu_sgd.hdf5') # load weights from best model"
   ]
  },
  {
   "cell_type": "code",
   "execution_count": 54,
   "metadata": {
    "colab": {
     "base_uri": "https://localhost:8080/",
     "height": 34
    },
    "colab_type": "code",
    "id": "Q_dSTW6eT59O",
    "outputId": "e65ab237-7de9-4dad-ef67-a7133cfe7c37"
   },
   "outputs": [
    {
     "name": "stdout",
     "output_type": "stream",
     "text": [
      "Accuracy: 0.9979736923446784\n"
     ]
    }
   ],
   "source": [
    "# Measure accuracy\n",
    "pred = model_sgd_relu.predict(x_test)\n",
    "pred_attack = np.argmax(pred,axis=1)\n",
    "y_testarray=y_test.values\n",
    "y_true = np.argmax(y_testarray,axis=1)\n",
    "correct = metrics.accuracy_score(y_true, pred_attack)\n",
    "print(\"Accuracy: {}\".format(correct))"
   ]
  },
  {
   "cell_type": "code",
   "execution_count": 56,
   "metadata": {
    "colab": {
     "base_uri": "https://localhost:8080/",
     "height": 463
    },
    "colab_type": "code",
    "id": "lv-hoa0-T56W",
    "outputId": "d6a8e2ea-7d27-4fde-ee23-519fa4dc2f27"
   },
   "outputs": [
    {
     "name": "stdout",
     "output_type": "stream",
     "text": [
      "[[17541    32]\n",
      " [   27 11517]]\n",
      "Plotting confusion matrix\n"
     ]
    },
    {
     "data": {
      "image/png": "[encoded data removed]",
      "text/plain": [
       "<matplotlib.figure.Figure at 0x7ffa463ed1d0>"
      ]
     },
     "metadata": {
      "tags": []
     },
     "output_type": "display_data"
    },
    {
     "name": "stdout",
     "output_type": "stream",
     "text": [
      "             precision    recall  f1-score   support\n",
      "\n",
      "          0       1.00      1.00      1.00     17573\n",
      "          1       1.00      1.00      1.00     11544\n",
      "\n",
      "avg / total       1.00      1.00      1.00     29117\n",
      "\n"
     ]
    }
   ],
   "source": [
    "from sklearn.metrics import confusion_matrix, classification_report\n",
    "# Compute confusion matrix\n",
    "cm = confusion_matrix(y_true, pred_attack)\n",
    "print(cm)\n",
    "print('Plotting confusion matrix')\n",
    "plt.figure()\n",
    "plot_confusion_matrix(cm, outcome)\n",
    "plt.show()\n",
    "print(classification_report(y_true, pred_attack))"
   ]
  },
  {
   "cell_type": "markdown",
   "metadata": {
    "colab_type": "text",
    "id": "gHhzvskzGgxn"
   },
   "source": [
    "## CNN"
   ]
  },
  {
   "cell_type": "code",
   "execution_count": 42,
   "metadata": {
    "colab": {
     "base_uri": "https://localhost:8080/",
     "height": 102
    },
    "colab_type": "code",
    "id": "nL7RyyVlZdWS",
    "outputId": "f7216305-2d18-4802-fa97-606bd5667ea2"
   },
   "outputs": [
    {
     "name": "stdout",
     "output_type": "stream",
     "text": [
      "Shape of x_train: (116468, 121)\n",
      "Shape of y_train: (116468,)\n",
      "\n",
      "Shape of x_test: (29117, 121)\n",
      "Shape of y_test: (29117,)\n"
     ]
    }
   ],
   "source": [
    "print(\"Shape of x_train: {}\".format(X_Train.shape))\n",
    "print(\"Shape of y_train: {}\".format(Y_Train.shape))\n",
    "print()\n",
    "print(\"Shape of x_test: {}\".format(X_Test.shape))\n",
    "print(\"Shape of y_test: {}\".format(Y_Test.shape))"
   ]
  },
  {
   "cell_type": "code",
   "execution_count": 105,
   "metadata": {
    "colab": {
     "base_uri": "https://localhost:8080/",
     "height": 51
    },
    "colab_type": "code",
    "id": "JSfAsZ9Tcd4a",
    "outputId": "1ff83f06-0497-41d0-a3a0-69dbcc9716c8"
   },
   "outputs": [
    {
     "name": "stdout",
     "output_type": "stream",
     "text": [
      "Shape of x_train: (116468, 1, 121, 1)\n",
      "Shape of x_test: (29117, 1, 121, 1)\n"
     ]
    }
   ],
   "source": [
    "#Reshape 2D\n",
    "cnn_x_train = X_Train.reshape(X_Train.shape[0], 1, X_Train.shape[1], 1)\n",
    "cnn_x_test = X_Test.reshape(X_Test.shape[0], 1 , X_Test.shape[1], 1)\n",
    "#reshape 1D\n",
    "#cnn_x_train = X_Train.reshape(X_Train.shape[0], 1, 1,X_Train.shape[1])\n",
    "#cnn_x_test = X_Test.reshape(X_Test.shape[0], 1 ,1, X_Test.shape[1])\n",
    "\n",
    "print(\"Shape of x_train: {}\".format(cnn_x_train.shape))\n",
    "print(\"Shape of x_test: {}\".format(cnn_x_test.shape))"
   ]
  },
  {
   "cell_type": "code",
   "execution_count": 0,
   "metadata": {
    "colab": {},
    "colab_type": "code",
    "id": "-BIk2x9se5KM"
   },
   "outputs": [],
   "source": [
    "num_classes = 2\n",
    "\n",
    "# Converts a class vector (integers) to binary class matrix.   One-hot encoding!  Use with categorical_crossentropy.\n",
    "cnn_y_train = keras.utils.to_categorical(Y_Train, num_classes)\n",
    "cnn_y_test = keras.utils.to_categorical(Y_Test, num_classes)"
   ]
  },
  {
   "cell_type": "code",
   "execution_count": 107,
   "metadata": {
    "colab": {
     "base_uri": "https://localhost:8080/",
     "height": 34
    },
    "colab_type": "code",
    "id": "Pm6HSM1HfqZT",
    "outputId": "68d32a80-d0b0-4877-9a54-6ac9e253badd"
   },
   "outputs": [
    {
     "data": {
      "text/plain": [
       "((116468, 2), (29117, 2))"
      ]
     },
     "execution_count": 107,
     "metadata": {
      "tags": []
     },
     "output_type": "execute_result"
    }
   ],
   "source": [
    "cnn_y_train.shape, cnn_y_test.shape"
   ]
  },
  {
   "cell_type": "code",
   "execution_count": 108,
   "metadata": {
    "colab": {
     "base_uri": "https://localhost:8080/",
     "height": 34
    },
    "colab_type": "code",
    "id": "Ysoyl7H_G9lI",
    "outputId": "365eaa1e-2c0a-4905-ee98-6b819d56def2"
   },
   "outputs": [
    {
     "data": {
      "text/plain": [
       "(1, 121, 1)"
      ]
     },
     "execution_count": 108,
     "metadata": {
      "tags": []
     },
     "output_type": "execute_result"
    }
   ],
   "source": [
    "# Define batch_size and # of epochs\n",
    "batch_size = 128\n",
    "img_rows= 1\n",
    "img_cols= 121\n",
    "input_shape = (img_rows, img_cols, 1)\n",
    "input_shape"
   ]
  },
  {
   "cell_type": "code",
   "execution_count": 109,
   "metadata": {
    "colab": {
     "base_uri": "https://localhost:8080/",
     "height": 1394
    },
    "colab_type": "code",
    "id": "xmCSw5X1gacF",
    "outputId": "04849931-fbdf-4a11-ba15-44b9ad245bf0"
   },
   "outputs": [
    {
     "name": "stdout",
     "output_type": "stream",
     "text": [
      "0\n",
      "WARNING:tensorflow:Variable *= will be deprecated. Use `var.assign(var * other)` if you want assignment to the variable value or `x = x * y` if you want a new python Tensor object.\n",
      "Train on 116468 samples, validate on 29117 samples\n",
      "Epoch 1/10\n",
      " - 12s - loss: 0.0270 - acc: 0.9920 - val_loss: 0.0098 - val_acc: 0.9966\n",
      "Epoch 2/10\n",
      " - 11s - loss: 0.0095 - acc: 0.9970 - val_loss: 0.0079 - val_acc: 0.9973\n",
      "Epoch 3/10\n",
      " - 11s - loss: 0.0074 - acc: 0.9979 - val_loss: 0.0072 - val_acc: 0.9979\n",
      "Epoch 4/10\n",
      " - 11s - loss: 0.0069 - acc: 0.9980 - val_loss: 0.0061 - val_acc: 0.9981\n",
      "Epoch 5/10\n",
      " - 12s - loss: 0.0060 - acc: 0.9982 - val_loss: 0.0043 - val_acc: 0.9987\n",
      "Epoch 6/10\n",
      " - 11s - loss: 0.0057 - acc: 0.9984 - val_loss: 0.0049 - val_acc: 0.9986\n",
      "Epoch 7/10\n",
      " - 11s - loss: 0.0048 - acc: 0.9985 - val_loss: 0.0053 - val_acc: 0.9987\n",
      "Epoch 00007: early stopping\n",
      "Elapsed time: 0:01:19.35\n",
      "1\n",
      "Train on 116468 samples, validate on 29117 samples\n",
      "Epoch 1/10\n",
      " - 12s - loss: 0.0306 - acc: 0.9908 - val_loss: 0.0093 - val_acc: 0.9975\n",
      "Epoch 2/10\n",
      " - 11s - loss: 0.0099 - acc: 0.9972 - val_loss: 0.0080 - val_acc: 0.9973\n",
      "Epoch 3/10\n",
      " - 11s - loss: 0.0080 - acc: 0.9976 - val_loss: 0.0069 - val_acc: 0.9978\n",
      "Epoch 4/10\n",
      " - 11s - loss: 0.0067 - acc: 0.9979 - val_loss: 0.0049 - val_acc: 0.9986\n",
      "Epoch 5/10\n",
      " - 11s - loss: 0.0062 - acc: 0.9982 - val_loss: 0.0055 - val_acc: 0.9985\n",
      "Epoch 6/10\n",
      " - 11s - loss: 0.0056 - acc: 0.9983 - val_loss: 0.0049 - val_acc: 0.9984\n",
      "Epoch 00006: early stopping\n",
      "Elapsed time: 0:01:06.38\n",
      "2\n",
      "Train on 116468 samples, validate on 29117 samples\n",
      "Epoch 1/10\n",
      " - 12s - loss: 0.0282 - acc: 0.9911 - val_loss: 0.0083 - val_acc: 0.9974\n",
      "Epoch 2/10\n",
      " - 11s - loss: 0.0094 - acc: 0.9971 - val_loss: 0.0110 - val_acc: 0.9966\n",
      "Epoch 3/10\n",
      " - 11s - loss: 0.0075 - acc: 0.9977 - val_loss: 0.0064 - val_acc: 0.9982\n",
      "Epoch 4/10\n",
      " - 11s - loss: 0.0065 - acc: 0.9979 - val_loss: 0.0049 - val_acc: 0.9987\n",
      "Epoch 5/10\n",
      " - 11s - loss: 0.0058 - acc: 0.9983 - val_loss: 0.0059 - val_acc: 0.9985\n",
      "Epoch 6/10\n",
      " - 11s - loss: 0.0054 - acc: 0.9984 - val_loss: 0.0066 - val_acc: 0.9982\n",
      "Epoch 00006: early stopping\n",
      "Elapsed time: 0:01:06.82\n",
      "3\n",
      "Train on 116468 samples, validate on 29117 samples\n",
      "Epoch 1/10\n",
      " - 12s - loss: 0.0274 - acc: 0.9917 - val_loss: 0.0096 - val_acc: 0.9970\n",
      "Epoch 2/10\n",
      " - 11s - loss: 0.0092 - acc: 0.9972 - val_loss: 0.0070 - val_acc: 0.9980\n",
      "Epoch 3/10\n",
      " - 11s - loss: 0.0072 - acc: 0.9979 - val_loss: 0.0062 - val_acc: 0.9976\n",
      "Epoch 4/10\n",
      " - 11s - loss: 0.0065 - acc: 0.9980 - val_loss: 0.0050 - val_acc: 0.9987\n",
      "Epoch 5/10\n",
      " - 11s - loss: 0.0056 - acc: 0.9982 - val_loss: 0.0044 - val_acc: 0.9988\n",
      "Epoch 6/10\n",
      " - 11s - loss: 0.0050 - acc: 0.9984 - val_loss: 0.0045 - val_acc: 0.9988\n",
      "Epoch 00006: early stopping\n",
      "Elapsed time: 0:01:08.08\n",
      "4\n",
      "Train on 116468 samples, validate on 29117 samples\n",
      "Epoch 1/10\n",
      " - 12s - loss: 0.0289 - acc: 0.9910 - val_loss: 0.0092 - val_acc: 0.9973\n",
      "Epoch 2/10\n",
      " - 11s - loss: 0.0097 - acc: 0.9971 - val_loss: 0.0102 - val_acc: 0.9970\n",
      "Epoch 3/10\n",
      " - 11s - loss: 0.0078 - acc: 0.9977 - val_loss: 0.0059 - val_acc: 0.9978\n",
      "Epoch 4/10\n",
      " - 11s - loss: 0.0070 - acc: 0.9979 - val_loss: 0.0067 - val_acc: 0.9981\n",
      "Epoch 5/10\n",
      " - 11s - loss: 0.0061 - acc: 0.9981 - val_loss: 0.0053 - val_acc: 0.9986\n",
      "Epoch 00005: early stopping\n",
      "Elapsed time: 0:00:56.45\n"
     ]
    }
   ],
   "source": [
    "#kernal size = 1,5    stride = 1,1     activation='relu'\n",
    "import time\n",
    "checkpointer = ModelCheckpoint(filepath=\"best_weights_cnn_15_relu.hdf5\", verbose=0, save_best_only=True) # save best model\n",
    "for i in range(5):\n",
    "    print(i)\n",
    "    model_cnn = Sequential()\n",
    "    model_cnn.add(Conv2D(32, kernel_size=(1, 5), strides=(1, 1),\n",
    "                     activation='relu', padding='valid',\n",
    "                     input_shape=input_shape))\n",
    "    model_cnn.add(MaxPooling2D(pool_size=(1, 2), strides=(1, 2)))\n",
    "    model_cnn.add(Conv2D(64, (1, 5), activation='relu'))\n",
    "    model_cnn.add(MaxPooling2D(pool_size=(1, 2)))\n",
    "    model_cnn.add(Flatten())\n",
    "    model_cnn.add(Dense(1000, activation='relu'))\n",
    "    model_cnn.add(Dense(num_classes, activation='softmax'))\n",
    "    \n",
    "    model_cnn.compile(loss=keras.losses.categorical_crossentropy, optimizer=Adam(lr=0.001, decay=1e-6), metrics=['accuracy'])\n",
    "    monitor = EarlyStopping(monitor='val_loss', min_delta=1e-3, patience=2, verbose=2, mode='auto')\n",
    "\n",
    "    start_time = time.time()\n",
    "\n",
    "    model_cnn.fit(cnn_x_train,cnn_y_train,\n",
    "              batch_size=batch_size,\n",
    "              epochs=10,\n",
    "              verbose=2,\n",
    "              callbacks=[monitor,checkpointer],\n",
    "              validation_data=(cnn_x_test,cnn_y_test))\n",
    "\n",
    "    elapsed_time = time.time() - start_time\n",
    "    print(\"Elapsed time: {}\".format(hms_string(elapsed_time)))\n",
    "model_cnn.load_weights('best_weights_cnn_15_relu.hdf5') # load weights from best model"
   ]
  },
  {
   "cell_type": "code",
   "execution_count": 110,
   "metadata": {
    "colab": {
     "base_uri": "https://localhost:8080/",
     "height": 775
    },
    "colab_type": "code",
    "id": "94UUXdBgMj3H",
    "outputId": "e5aa1e01-8480-4411-9560-38466813104c"
   },
   "outputs": [
    {
     "name": "stdout",
     "output_type": "stream",
     "text": [
      "Accuracy: 0.9986949204931826\n",
      "[[17566    23]\n",
      " [   15 11513]]\n",
      "Plotting confusion matrix\n"
     ]
    },
    {
     "data": {
      "image/png": "[encoded data removed]",
      "text/plain": [
       "<matplotlib.figure.Figure at 0x7f807850d710>"
      ]
     },
     "metadata": {
      "tags": []
     },
     "output_type": "display_data"
    },
    {
     "name": "stdout",
     "output_type": "stream",
     "text": [
      "             precision    recall  f1-score   support\n",
      "\n",
      "          0       1.00      1.00      1.00     17589\n",
      "          1       1.00      1.00      1.00     11528\n",
      "\n",
      "avg / total       1.00      1.00      1.00     29117\n",
      "\n"
     ]
    },
    {
     "data": {
      "image/png": "[encoded data removed]",
      "text/plain": [
       "<matplotlib.figure.Figure at 0x7f8076feefd0>"
      ]
     },
     "metadata": {
      "tags": []
     },
     "output_type": "display_data"
    }
   ],
   "source": [
    "# Measure accuracy\n",
    "pred = model_cnn.predict(cnn_x_test)\n",
    "pred_attack = np.argmax(pred,axis=1)\n",
    "y_testarray=cnn_y_test\n",
    "y_true = np.argmax(y_testarray,axis=1)\n",
    "correct = metrics.accuracy_score(y_true, pred_attack)\n",
    "print(\"Accuracy: {}\".format(correct))\n",
    "y_true\n",
    "\n",
    "cm = metrics.confusion_matrix(y_true, pred_attack)  \n",
    "print(cm)\n",
    "\n",
    "print('Plotting confusion matrix')\n",
    "\n",
    "plt.figure()\n",
    "plot_confusion_matrix(cm, outcome)\n",
    "plt.show()\n",
    "\n",
    "print(metrics.classification_report(y_true, pred_attack))\n",
    "\n",
    "plot_roc(pred_attack,y_true)"
   ]
  },
  {
   "cell_type": "code",
   "execution_count": 55,
   "metadata": {
    "colab": {
     "base_uri": "https://localhost:8080/",
     "height": 391
    },
    "colab_type": "code",
    "id": "cXhsK9pSMfUh",
    "outputId": "6fd7842f-1f03-4e1b-e6f1-9fe059d05311"
   },
   "outputs": [
    {
     "name": "stdout",
     "output_type": "stream",
     "text": [
      "Train on 116468 samples, validate on 29117 samples\n",
      "Epoch 1/10\n",
      " - 69s - loss: 0.0308 - acc: 0.9904 - val_loss: 0.0119 - val_acc: 0.9965\n",
      "Epoch 2/10\n",
      " - 69s - loss: 0.0105 - acc: 0.9970 - val_loss: 0.0069 - val_acc: 0.9979\n",
      "Epoch 3/10\n",
      " - 69s - loss: 0.0084 - acc: 0.9976 - val_loss: 0.0106 - val_acc: 0.9973\n",
      "Epoch 4/10\n",
      " - 68s - loss: 0.0074 - acc: 0.9977 - val_loss: 0.0106 - val_acc: 0.9967\n",
      "Epoch 5/10\n",
      " - 68s - loss: 0.0066 - acc: 0.9980 - val_loss: 0.0066 - val_acc: 0.9973\n",
      "Epoch 6/10\n",
      " - 68s - loss: 0.0061 - acc: 0.9981 - val_loss: 0.0060 - val_acc: 0.9980\n",
      "Epoch 7/10\n",
      " - 69s - loss: 0.0054 - acc: 0.9985 - val_loss: 0.0045 - val_acc: 0.9986\n",
      "Epoch 8/10\n",
      " - 67s - loss: 0.0051 - acc: 0.9985 - val_loss: 0.0057 - val_acc: 0.9983\n",
      "Epoch 9/10\n",
      " - 67s - loss: 0.0049 - acc: 0.9985 - val_loss: 0.0093 - val_acc: 0.9964\n",
      "Epoch 10/10\n",
      " - 67s - loss: 0.0045 - acc: 0.9987 - val_loss: 0.0051 - val_acc: 0.9986\n",
      "Elapsed time: 0:11:21.82\n"
     ]
    }
   ],
   "source": [
    "#kernal size = 1,3    stride = 1,1     activation='relu'\n",
    "import time\n",
    "checkpointer = ModelCheckpoint(filepath=\"best_weights_cnn_13_relu.hdf5\", verbose=0, save_best_only=True) # save best model\n",
    "\n",
    "model_cnn = Sequential()\n",
    "model_cnn.add(Conv2D(32, kernel_size=(1, 3), strides=(1, 1),activation='relu', padding='valid',input_shape=input_shape))\n",
    "model_cnn.add(MaxPooling2D(pool_size=(1, 2), strides=(1, 2)))\n",
    "model_cnn.add(Conv2D(64, (1, 3), activation='relu'))\n",
    "model_cnn.add(MaxPooling2D(pool_size=(1, 2)))\n",
    "model_cnn.add(Flatten())\n",
    "model_cnn.add(Dense(1000, activation='relu'))\n",
    "model_cnn.add(Dense(num_classes, activation='softmax'))\n",
    "    \n",
    "model_cnn.compile(loss=keras.losses.categorical_crossentropy, optimizer=Adam(lr=0.001, decay=1e-6), metrics=['accuracy'])\n",
    "monitor = EarlyStopping(monitor='val_loss', min_delta=1e-3, patience=2, verbose=2, mode='auto')\n",
    "\n",
    "start_time = time.time()\n",
    "\n",
    "model_cnn.fit(cnn_x_train,cnn_y_train,\n",
    "              batch_size=batch_size,\n",
    "              epochs=10,\n",
    "              verbose=2,\n",
    "              callbacks=[monitor,checkpointer],\n",
    "              validation_data=(cnn_x_test,cnn_y_test))\n",
    "\n",
    "elapsed_time = time.time() - start_time\n",
    "print(\"Elapsed time: {}\".format(hms_string(elapsed_time)))\n",
    "model_cnn.load_weights('best_weights_cnn_13_relu.hdf5') # load weights from best model"
   ]
  },
  {
   "cell_type": "code",
   "execution_count": 60,
   "metadata": {
    "colab": {
     "base_uri": "https://localhost:8080/",
     "height": 741
    },
    "colab_type": "code",
    "id": "oG5wcZ-oot26",
    "outputId": "f498a635-c567-4637-b5f7-210a2b379475"
   },
   "outputs": [
    {
     "name": "stdout",
     "output_type": "stream",
     "text": [
      "Accuracy: 0.9985575437029914\n",
      "Plotting confusion matrix\n"
     ]
    },
    {
     "data": {
      "image/png": "[encoded data removed]",
      "text/plain": [
       "<matplotlib.figure.Figure at 0x7fea2ea61f98>"
      ]
     },
     "metadata": {
      "tags": []
     },
     "output_type": "display_data"
    },
    {
     "name": "stdout",
     "output_type": "stream",
     "text": [
      "             precision    recall  f1-score   support\n",
      "\n",
      "          0       1.00      1.00      1.00     17589\n",
      "          1       1.00      1.00      1.00     11528\n",
      "\n",
      "avg / total       1.00      1.00      1.00     29117\n",
      "\n"
     ]
    },
    {
     "data": {
      "image/png": "[encoded data removed]",
      "text/plain": [
       "<matplotlib.figure.Figure at 0x7fea3503e390>"
      ]
     },
     "metadata": {
      "tags": []
     },
     "output_type": "display_data"
    }
   ],
   "source": [
    "# Measure accuracy\n",
    "pred = model_cnn.predict(cnn_x_test)\n",
    "pred_attack = np.argmax(pred,axis=1)\n",
    "y_testarray=cnn_y_test\n",
    "y_true = np.argmax(y_testarray,axis=1)\n",
    "correct = metrics.accuracy_score(y_true, pred_attack)\n",
    "print(\"Accuracy: {}\".format(correct))\n",
    "y_true\n",
    "\n",
    "cm = metrics.confusion_matrix(y_true, pred_attack)  \n",
    "print(cm)\n",
    "\n",
    "print('Plotting confusion matrix')\n",
    "\n",
    "plt.figure()\n",
    "plot_confusion_matrix(cm, outcome)\n",
    "plt.show()\n",
    "\n",
    "print(metrics.classification_report(y_true, pred_attack))\n",
    "\n",
    "plot_roc(pred_attack,y_true)"
   ]
  },
  {
   "cell_type": "code",
   "execution_count": 47,
   "metadata": {
    "colab": {
     "base_uri": "https://localhost:8080/",
     "height": 340
    },
    "colab_type": "code",
    "id": "yrer8aCjXqJ9",
    "outputId": "8bcee202-8d59-4c2c-8ea0-5a4a9c47555d"
   },
   "outputs": [
    {
     "name": "stdout",
     "output_type": "stream",
     "text": [
      "Train on 116468 samples, validate on 29117 samples\n",
      "Epoch 1/10\n",
      " - 10s - loss: 0.0354 - acc: 0.9894 - val_loss: 0.0316 - val_acc: 0.9912\n",
      "Epoch 2/10\n",
      " - 9s - loss: 0.0237 - acc: 0.9928 - val_loss: 0.0189 - val_acc: 0.9942\n",
      "Epoch 3/10\n",
      " - 9s - loss: 0.0202 - acc: 0.9941 - val_loss: 0.0190 - val_acc: 0.9933\n",
      "Epoch 4/10\n",
      " - 9s - loss: 0.0185 - acc: 0.9944 - val_loss: 0.0172 - val_acc: 0.9950\n",
      "Epoch 5/10\n",
      " - 9s - loss: 0.0171 - acc: 0.9948 - val_loss: 0.0264 - val_acc: 0.9916\n",
      "Epoch 6/10\n",
      " - 9s - loss: 0.0166 - acc: 0.9951 - val_loss: 0.0127 - val_acc: 0.9957\n",
      "Epoch 7/10\n",
      " - 9s - loss: 0.0149 - acc: 0.9953 - val_loss: 0.0126 - val_acc: 0.9958\n",
      "Epoch 8/10\n",
      " - 9s - loss: 0.0135 - acc: 0.9960 - val_loss: 0.0152 - val_acc: 0.9943\n",
      "Epoch 00008: early stopping\n",
      "Elapsed time: 0:01:12.81\n"
     ]
    }
   ],
   "source": [
    "#kernal size = 1,5    stride = 1,1     activation='tanh'\n",
    "import time\n",
    "checkpointer = ModelCheckpoint(filepath=\"best_weights_cnn_15_tanh.hdf5\", verbose=0, save_best_only=True) # save best model\n",
    "\n",
    "model_cnn = Sequential()\n",
    "model_cnn.add(Conv2D(32, kernel_size=(1, 5), strides=(1, 1),activation='tanh', padding='valid',input_shape=input_shape))\n",
    "model_cnn.add(MaxPooling2D(pool_size=(1, 2), strides=(1, 2)))\n",
    "model_cnn.add(Conv2D(64, (1, 5), activation='tanh'))\n",
    "model_cnn.add(MaxPooling2D(pool_size=(1, 2)))\n",
    "model_cnn.add(Flatten())\n",
    "model_cnn.add(Dense(1000, activation='tanh'))\n",
    "model_cnn.add(Dense(num_classes, activation='softmax'))\n",
    "    \n",
    "model_cnn.compile(loss=keras.losses.categorical_crossentropy, optimizer=Adam(lr=0.001, decay=1e-6), metrics=['accuracy'])\n",
    "monitor = EarlyStopping(monitor='val_loss', min_delta=1e-3, patience=2, verbose=2, mode='auto')\n",
    "\n",
    "start_time = time.time()\n",
    "\n",
    "model_cnn.fit(cnn_x_train,cnn_y_train,\n",
    "              batch_size=batch_size,\n",
    "              epochs=10,\n",
    "              verbose=2,\n",
    "              callbacks=[monitor,checkpointer],\n",
    "              validation_data=(cnn_x_test,cnn_y_test))\n",
    "\n",
    "elapsed_time = time.time() - start_time\n",
    "print(\"Elapsed time: {}\".format(hms_string(elapsed_time)))\n",
    "model_cnn.load_weights('best_weights_cnn_15_tanh.hdf5') # load weights from best model"
   ]
  },
  {
   "cell_type": "code",
   "execution_count": 48,
   "metadata": {
    "colab": {
     "base_uri": "https://localhost:8080/",
     "height": 741
    },
    "colab_type": "code",
    "id": "H4_yXwugZnyb",
    "outputId": "81d522b0-e3bb-4c5a-df74-056996e320d1"
   },
   "outputs": [
    {
     "name": "stdout",
     "output_type": "stream",
     "text": [
      "Accuracy: 0.994333207404609\n",
      "Plotting confusion matrix\n"
     ]
    },
    {
     "data": {
      "image/png": "[encoded data removed]",
      "text/plain": [
       "<matplotlib.figure.Figure at 0x7fc71598d630>"
      ]
     },
     "metadata": {
      "tags": []
     },
     "output_type": "display_data"
    },
    {
     "name": "stdout",
     "output_type": "stream",
     "text": [
      "             precision    recall  f1-score   support\n",
      "\n",
      "          0       0.99      1.00      1.00     17589\n",
      "          1       1.00      0.99      0.99     11528\n",
      "\n",
      "avg / total       0.99      0.99      0.99     29117\n",
      "\n"
     ]
    },
    {
     "data": {
      "image/png": "[encoded data removed]",
      "text/plain": [
       "<matplotlib.figure.Figure at 0x7fc7153fff60>"
      ]
     },
     "metadata": {
      "tags": []
     },
     "output_type": "display_data"
    }
   ],
   "source": [
    "# Measure accuracy\n",
    "pred = model_cnn.predict(cnn_x_test)\n",
    "pred_attack = np.argmax(pred,axis=1)\n",
    "y_testarray=cnn_y_test\n",
    "y_true = np.argmax(y_testarray,axis=1)\n",
    "correct = metrics.accuracy_score(y_true, pred_attack)\n",
    "print(\"Accuracy: {}\".format(correct))\n",
    "y_true\n",
    "\n",
    "cm = metrics.confusion_matrix(y_true, pred_attack)  \n",
    "print(cm)\n",
    "\n",
    "print('Plotting confusion matrix')\n",
    "\n",
    "plt.figure()\n",
    "plot_confusion_matrix(cm, outcome)\n",
    "plt.show()\n",
    "\n",
    "print(metrics.classification_report(y_true, pred_attack))\n",
    "\n",
    "plot_roc(pred_attack,y_true)"
   ]
  },
  {
   "cell_type": "code",
   "execution_count": 49,
   "metadata": {
    "colab": {
     "base_uri": "https://localhost:8080/",
     "height": 238
    },
    "colab_type": "code",
    "id": "iQ5bh7Q6cCV2",
    "outputId": "277b3289-762c-45af-b40e-c8da0a39d006"
   },
   "outputs": [
    {
     "name": "stdout",
     "output_type": "stream",
     "text": [
      "Train on 116468 samples, validate on 29117 samples\n",
      "Epoch 1/10\n",
      " - 10s - loss: 0.0380 - acc: 0.9876 - val_loss: 0.0231 - val_acc: 0.9925\n",
      "Epoch 2/10\n",
      " - 9s - loss: 0.0243 - acc: 0.9925 - val_loss: 0.0187 - val_acc: 0.9942\n",
      "Epoch 3/10\n",
      " - 9s - loss: 0.0206 - acc: 0.9938 - val_loss: 0.0165 - val_acc: 0.9946\n",
      "Epoch 4/10\n",
      " - 9s - loss: 0.0194 - acc: 0.9943 - val_loss: 0.0194 - val_acc: 0.9942\n",
      "Epoch 5/10\n",
      " - 9s - loss: 0.0175 - acc: 0.9947 - val_loss: 0.0238 - val_acc: 0.9913\n",
      "Epoch 00005: early stopping\n",
      "Elapsed time: 0:00:45.31\n"
     ]
    }
   ],
   "source": [
    "#kernal size = 1,3    stride = 1,1     activation='tanh'\n",
    "import time\n",
    "checkpointer = ModelCheckpoint(filepath=\"best_weights_cnn_13_tanh.hdf5\", verbose=0, save_best_only=True) # save best model\n",
    "\n",
    "model_cnn = Sequential()\n",
    "model_cnn.add(Conv2D(32, kernel_size=(1, 3), strides=(1, 1),activation='tanh', padding='valid',input_shape=input_shape))\n",
    "model_cnn.add(MaxPooling2D(pool_size=(1, 2), strides=(1, 2)))\n",
    "model_cnn.add(Conv2D(64, (1, 3), activation='tanh'))\n",
    "model_cnn.add(MaxPooling2D(pool_size=(1, 2)))\n",
    "model_cnn.add(Flatten())\n",
    "model_cnn.add(Dense(1000, activation='tanh'))\n",
    "model_cnn.add(Dense(num_classes, activation='softmax'))\n",
    "    \n",
    "model_cnn.compile(loss=keras.losses.categorical_crossentropy, optimizer=Adam(lr=0.001, decay=1e-6), metrics=['accuracy'])\n",
    "monitor = EarlyStopping(monitor='val_loss', min_delta=1e-3, patience=2, verbose=2, mode='auto')\n",
    "\n",
    "start_time = time.time()\n",
    "\n",
    "model_cnn.fit(cnn_x_train,cnn_y_train,\n",
    "              batch_size=batch_size,\n",
    "              epochs=10,\n",
    "              verbose=2,\n",
    "              callbacks=[monitor,checkpointer],\n",
    "              validation_data=(cnn_x_test,cnn_y_test))\n",
    "\n",
    "elapsed_time = time.time() - start_time\n",
    "print(\"Elapsed time: {}\".format(hms_string(elapsed_time)))\n",
    "model_cnn.load_weights('best_weights_cnn_13_tanh.hdf5') # load weights from best model"
   ]
  },
  {
   "cell_type": "code",
   "execution_count": 50,
   "metadata": {
    "colab": {
     "base_uri": "https://localhost:8080/",
     "height": 741
    },
    "colab_type": "code",
    "id": "wKNV4jlocQ1g",
    "outputId": "6ebd6186-aab7-41d0-cacf-d5c13af6bc14"
   },
   "outputs": [
    {
     "name": "stdout",
     "output_type": "stream",
     "text": [
      "Accuracy: 0.9913109180204005\n",
      "Plotting confusion matrix\n"
     ]
    },
    {
     "data": {
      "image/png": "[encoded data removed]",
      "text/plain": [
       "<matplotlib.figure.Figure at 0x7fc7154df0f0>"
      ]
     },
     "metadata": {
      "tags": []
     },
     "output_type": "display_data"
    },
    {
     "name": "stdout",
     "output_type": "stream",
     "text": [
      "             precision    recall  f1-score   support\n",
      "\n",
      "          0       1.00      0.99      0.99     17589\n",
      "          1       0.98      1.00      0.99     11528\n",
      "\n",
      "avg / total       0.99      0.99      0.99     29117\n",
      "\n"
     ]
    },
    {
     "data": {
      "image/png": "[encoded data removed]",
      "text/plain": [
       "<matplotlib.figure.Figure at 0x7fc7158ba5f8>"
      ]
     },
     "metadata": {
      "tags": []
     },
     "output_type": "display_data"
    }
   ],
   "source": [
    "# Measure accuracy\n",
    "pred = model_cnn.predict(cnn_x_test)\n",
    "pred_attack = np.argmax(pred,axis=1)\n",
    "y_testarray=cnn_y_test\n",
    "y_true = np.argmax(y_testarray,axis=1)\n",
    "correct = metrics.accuracy_score(y_true, pred_attack)\n",
    "print(\"Accuracy: {}\".format(correct))\n",
    "y_true\n",
    "\n",
    "cm = metrics.confusion_matrix(y_true, pred_attack)  \n",
    "print(cm)\n",
    "\n",
    "print('Plotting confusion matrix')\n",
    "\n",
    "plt.figure()\n",
    "plot_confusion_matrix(cm, outcome)\n",
    "plt.show()\n",
    "\n",
    "print(metrics.classification_report(y_true, pred_attack))\n",
    "\n",
    "plot_roc(pred_attack,y_true)"
   ]
  },
  {
   "cell_type": "code",
   "execution_count": 51,
   "metadata": {
    "colab": {
     "base_uri": "https://localhost:8080/",
     "height": 391
    },
    "colab_type": "code",
    "id": "SOlX-xSodCEx",
    "outputId": "bc5fa46d-4f0f-40ba-e4f3-eab9bc5f9471"
   },
   "outputs": [
    {
     "name": "stdout",
     "output_type": "stream",
     "text": [
      "Train on 116468 samples, validate on 29117 samples\n",
      "Epoch 1/10\n",
      " - 10s - loss: 0.2388 - acc: 0.8915 - val_loss: 0.0691 - val_acc: 0.9832\n",
      "Epoch 2/10\n",
      " - 9s - loss: 0.0664 - acc: 0.9820 - val_loss: 0.0567 - val_acc: 0.9848\n",
      "Epoch 3/10\n",
      " - 9s - loss: 0.0522 - acc: 0.9852 - val_loss: 0.0461 - val_acc: 0.9864\n",
      "Epoch 4/10\n",
      " - 9s - loss: 0.0443 - acc: 0.9861 - val_loss: 0.0458 - val_acc: 0.9858\n",
      "Epoch 5/10\n",
      " - 9s - loss: 0.0386 - acc: 0.9873 - val_loss: 0.0350 - val_acc: 0.9885\n",
      "Epoch 6/10\n",
      " - 9s - loss: 0.0326 - acc: 0.9893 - val_loss: 0.0282 - val_acc: 0.9910\n",
      "Epoch 7/10\n",
      " - 9s - loss: 0.0286 - acc: 0.9908 - val_loss: 0.0317 - val_acc: 0.9906\n",
      "Epoch 8/10\n",
      " - 9s - loss: 0.0257 - acc: 0.9918 - val_loss: 0.0203 - val_acc: 0.9933\n",
      "Epoch 9/10\n",
      " - 9s - loss: 0.0247 - acc: 0.9923 - val_loss: 0.0181 - val_acc: 0.9947\n",
      "Epoch 10/10\n",
      " - 9s - loss: 0.0204 - acc: 0.9937 - val_loss: 0.0184 - val_acc: 0.9930\n",
      "Elapsed time: 0:01:30.66\n"
     ]
    }
   ],
   "source": [
    "#kernal size = 1,5    stride = 1,1     activation='sigmoid'\n",
    "import time\n",
    "checkpointer = ModelCheckpoint(filepath=\"best_weights_cnn_13_sigmoid.hdf5\", verbose=0, save_best_only=True) # save best model\n",
    "\n",
    "model_cnn = Sequential()\n",
    "model_cnn.add(Conv2D(32, kernel_size=(1, 5), strides=(1, 1),activation='sigmoid', padding='valid',input_shape=input_shape))\n",
    "model_cnn.add(MaxPooling2D(pool_size=(1, 2), strides=(1, 2)))\n",
    "model_cnn.add(Conv2D(64, (1, 5), activation='sigmoid'))\n",
    "model_cnn.add(MaxPooling2D(pool_size=(1, 2)))\n",
    "model_cnn.add(Flatten())\n",
    "model_cnn.add(Dense(1000, activation='sigmoid'))\n",
    "model_cnn.add(Dense(num_classes, activation='softmax'))\n",
    "    \n",
    "model_cnn.compile(loss=keras.losses.categorical_crossentropy, optimizer=Adam(lr=0.001, decay=1e-6), metrics=['accuracy'])\n",
    "monitor = EarlyStopping(monitor='val_loss', min_delta=1e-3, patience=2, verbose=2, mode='auto')\n",
    "\n",
    "start_time = time.time()\n",
    "\n",
    "model_cnn.fit(cnn_x_train,cnn_y_train,\n",
    "              batch_size=batch_size,\n",
    "              epochs=10,\n",
    "              verbose=2,\n",
    "              callbacks=[monitor,checkpointer],\n",
    "              validation_data=(cnn_x_test,cnn_y_test))\n",
    "\n",
    "elapsed_time = time.time() - start_time\n",
    "print(\"Elapsed time: {}\".format(hms_string(elapsed_time)))\n",
    "model_cnn.load_weights('best_weights_cnn_13_sigmoid.hdf5') # load weights from best model"
   ]
  },
  {
   "cell_type": "code",
   "execution_count": 52,
   "metadata": {
    "colab": {
     "base_uri": "https://localhost:8080/",
     "height": 741
    },
    "colab_type": "code",
    "id": "kPHxCdQbdTdJ",
    "outputId": "564c1c2d-e993-4c35-8269-8f06dc618436"
   },
   "outputs": [
    {
     "name": "stdout",
     "output_type": "stream",
     "text": [
      "Accuracy: 0.9930281278977917\n",
      "Plotting confusion matrix\n"
     ]
    },
    {
     "data": {
      "image/png": "[encoded data removed]",
      "text/plain": [
       "<matplotlib.figure.Figure at 0x7fc714670240>"
      ]
     },
     "metadata": {
      "tags": []
     },
     "output_type": "display_data"
    },
    {
     "name": "stdout",
     "output_type": "stream",
     "text": [
      "             precision    recall  f1-score   support\n",
      "\n",
      "          0       0.99      1.00      0.99     17589\n",
      "          1       1.00      0.99      0.99     11528\n",
      "\n",
      "avg / total       0.99      0.99      0.99     29117\n",
      "\n"
     ]
    },
    {
     "data": {
      "image/png": "[encoded data removed]",
      "text/plain": [
       "<matplotlib.figure.Figure at 0x7fc714136320>"
      ]
     },
     "metadata": {
      "tags": []
     },
     "output_type": "display_data"
    }
   ],
   "source": [
    "# Measure accuracy\n",
    "pred = model_cnn.predict(cnn_x_test)\n",
    "pred_attack = np.argmax(pred,axis=1)\n",
    "y_testarray=cnn_y_test\n",
    "y_true = np.argmax(y_testarray,axis=1)\n",
    "correct = metrics.accuracy_score(y_true, pred_attack)\n",
    "print(\"Accuracy: {}\".format(correct))\n",
    "y_true\n",
    "\n",
    "cm = metrics.confusion_matrix(y_true, pred_attack)  \n",
    "print(cm)\n",
    "\n",
    "print('Plotting confusion matrix')\n",
    "\n",
    "plt.figure()\n",
    "plot_confusion_matrix(cm, outcome)\n",
    "plt.show()\n",
    "\n",
    "print(metrics.classification_report(y_true, pred_attack))\n",
    "\n",
    "plot_roc(pred_attack,y_true)"
   ]
  },
  {
   "cell_type": "code",
   "execution_count": 53,
   "metadata": {
    "colab": {
     "base_uri": "https://localhost:8080/",
     "height": 391
    },
    "colab_type": "code",
    "id": "eJ1c94LXdOpk",
    "outputId": "fcd3870e-28be-42b4-eb8a-c6403c349611"
   },
   "outputs": [
    {
     "name": "stdout",
     "output_type": "stream",
     "text": [
      "Train on 116468 samples, validate on 29117 samples\n",
      "Epoch 1/10\n",
      " - 10s - loss: 0.3012 - acc: 0.8624 - val_loss: 0.0715 - val_acc: 0.9818\n",
      "Epoch 2/10\n",
      " - 9s - loss: 0.0685 - acc: 0.9814 - val_loss: 0.0557 - val_acc: 0.9846\n",
      "Epoch 3/10\n",
      " - 9s - loss: 0.0553 - acc: 0.9846 - val_loss: 0.0504 - val_acc: 0.9857\n",
      "Epoch 4/10\n",
      " - 9s - loss: 0.0460 - acc: 0.9858 - val_loss: 0.0423 - val_acc: 0.9862\n",
      "Epoch 5/10\n",
      " - 9s - loss: 0.0389 - acc: 0.9873 - val_loss: 0.0349 - val_acc: 0.9890\n",
      "Epoch 6/10\n",
      " - 9s - loss: 0.0345 - acc: 0.9888 - val_loss: 0.0279 - val_acc: 0.9901\n",
      "Epoch 7/10\n",
      " - 9s - loss: 0.0318 - acc: 0.9897 - val_loss: 0.0245 - val_acc: 0.9911\n",
      "Epoch 8/10\n",
      " - 9s - loss: 0.0268 - acc: 0.9913 - val_loss: 0.0198 - val_acc: 0.9934\n",
      "Epoch 9/10\n",
      " - 9s - loss: 0.0238 - acc: 0.9925 - val_loss: 0.0168 - val_acc: 0.9946\n",
      "Epoch 10/10\n",
      " - 9s - loss: 0.0189 - acc: 0.9941 - val_loss: 0.0139 - val_acc: 0.9959\n",
      "Elapsed time: 0:01:30.33\n"
     ]
    }
   ],
   "source": [
    "#kernal size = 1,3     activation='sigmoid'\n",
    "import time\n",
    "checkpointer = ModelCheckpoint(filepath=\"best_weights_cnn_15_sigmoid.hdf5\", verbose=0, save_best_only=True) # save best model\n",
    "\n",
    "model_cnn = Sequential()\n",
    "model_cnn.add(Conv2D(32, kernel_size=(1, 3), strides=(1, 1),activation='sigmoid', padding='valid',input_shape=input_shape))\n",
    "model_cnn.add(MaxPooling2D(pool_size=(1, 2), strides=(1, 2)))\n",
    "model_cnn.add(Conv2D(64, (1, 3), activation='sigmoid'))\n",
    "model_cnn.add(MaxPooling2D(pool_size=(1, 2)))\n",
    "model_cnn.add(Flatten())\n",
    "model_cnn.add(Dense(1000, activation='sigmoid'))\n",
    "model_cnn.add(Dense(num_classes, activation='softmax'))\n",
    "    \n",
    "model_cnn.compile(loss=keras.losses.categorical_crossentropy, optimizer=Adam(lr=0.001, decay=1e-6), metrics=['accuracy'])\n",
    "monitor = EarlyStopping(monitor='val_loss', min_delta=1e-3, patience=2, verbose=2, mode='auto')\n",
    "\n",
    "start_time = time.time()\n",
    "\n",
    "model_cnn.fit(cnn_x_train,cnn_y_train,\n",
    "              batch_size=batch_size,\n",
    "              epochs=10,\n",
    "              verbose=2,\n",
    "              callbacks=[monitor,checkpointer],\n",
    "              validation_data=(cnn_x_test,cnn_y_test))\n",
    "\n",
    "elapsed_time = time.time() - start_time\n",
    "print(\"Elapsed time: {}\".format(hms_string(elapsed_time)))\n",
    "model_cnn.load_weights('best_weights_cnn_15_sigmoid.hdf5') # load weights from best model"
   ]
  },
  {
   "cell_type": "code",
   "execution_count": 54,
   "metadata": {
    "colab": {
     "base_uri": "https://localhost:8080/",
     "height": 741
    },
    "colab_type": "code",
    "id": "jgKm77fFdT3p",
    "outputId": "245837b0-413a-46e6-8f9f-d14ac3df49ac"
   },
   "outputs": [
    {
     "name": "stdout",
     "output_type": "stream",
     "text": [
      "Accuracy: 0.9958786962942611\n",
      "Plotting confusion matrix\n"
     ]
    },
    {
     "data": {
      "image/png": "[encoded data removed]",
      "text/plain": [
       "<matplotlib.figure.Figure at 0x7fc71f60c898>"
      ]
     },
     "metadata": {
      "tags": []
     },
     "output_type": "display_data"
    },
    {
     "name": "stdout",
     "output_type": "stream",
     "text": [
      "             precision    recall  f1-score   support\n",
      "\n",
      "          0       1.00      1.00      1.00     17589\n",
      "          1       1.00      0.99      0.99     11528\n",
      "\n",
      "avg / total       1.00      1.00      1.00     29117\n",
      "\n"
     ]
    },
    {
     "data": {
      "image/png": "[encoded data removed]",
      "text/plain": [
       "<matplotlib.figure.Figure at 0x7fc715754828>"
      ]
     },
     "metadata": {
      "tags": []
     },
     "output_type": "display_data"
    }
   ],
   "source": [
    "# Measure accuracy\n",
    "pred = model_cnn.predict(cnn_x_test)\n",
    "pred_attack = np.argmax(pred,axis=1)\n",
    "y_testarray=cnn_y_test\n",
    "y_true = np.argmax(y_testarray,axis=1)\n",
    "correct = metrics.accuracy_score(y_true, pred_attack)\n",
    "print(\"Accuracy: {}\".format(correct))\n",
    "y_true\n",
    "\n",
    "cm = metrics.confusion_matrix(y_true, pred_attack)  \n",
    "print(cm)\n",
    "\n",
    "print('Plotting confusion matrix')\n",
    "\n",
    "plt.figure()\n",
    "plot_confusion_matrix(cm, outcome)\n",
    "plt.show()\n",
    "\n",
    "print(metrics.classification_report(y_true, pred_attack))\n",
    "\n",
    "plot_roc(pred_attack,y_true)"
   ]
  },
  {
   "cell_type": "code",
   "execution_count": 55,
   "metadata": {
    "colab": {
     "base_uri": "https://localhost:8080/",
     "height": 391
    },
    "colab_type": "code",
    "id": "3hO9mLNAeqBs",
    "outputId": "00c1ef77-5e1a-4177-9de7-69ee2b4b23c6"
   },
   "outputs": [
    {
     "name": "stdout",
     "output_type": "stream",
     "text": [
      "Train on 116468 samples, validate on 29117 samples\n",
      "Epoch 1/10\n",
      " - 12s - loss: 0.2971 - acc: 0.8634 - val_loss: 0.0769 - val_acc: 0.9804\n",
      "Epoch 2/10\n",
      " - 11s - loss: 0.0636 - acc: 0.9832 - val_loss: 0.0528 - val_acc: 0.9871\n",
      "Epoch 3/10\n",
      " - 11s - loss: 0.0499 - acc: 0.9859 - val_loss: 0.0431 - val_acc: 0.9878\n",
      "Epoch 4/10\n",
      " - 11s - loss: 0.0413 - acc: 0.9871 - val_loss: 0.0408 - val_acc: 0.9871\n",
      "Epoch 5/10\n",
      " - 11s - loss: 0.0344 - acc: 0.9888 - val_loss: 0.0291 - val_acc: 0.9901\n",
      "Epoch 6/10\n",
      " - 11s - loss: 0.0279 - acc: 0.9910 - val_loss: 0.0226 - val_acc: 0.9926\n",
      "Epoch 7/10\n",
      " - 11s - loss: 0.0245 - acc: 0.9920 - val_loss: 0.0170 - val_acc: 0.9940\n",
      "Epoch 8/10\n",
      " - 11s - loss: 0.0208 - acc: 0.9937 - val_loss: 0.0168 - val_acc: 0.9937\n",
      "Epoch 9/10\n",
      " - 11s - loss: 0.0167 - acc: 0.9950 - val_loss: 0.0149 - val_acc: 0.9951\n",
      "Epoch 10/10\n",
      " - 11s - loss: 0.0138 - acc: 0.9959 - val_loss: 0.0100 - val_acc: 0.9967\n",
      "Elapsed time: 0:01:50.45\n"
     ]
    }
   ],
   "source": [
    "#kernal size = 1,3    stride = 1,1     activation='sigmoid'\n",
    "import time\n",
    "checkpointer = ModelCheckpoint(filepath=\"best_weights_cnn_15_sigmoid_nuron50100.hdf5\", verbose=0, save_best_only=True) # save best model\n",
    "\n",
    "model_cnn = Sequential()\n",
    "model_cnn.add(Conv2D(50, kernel_size=(1, 3), strides=(1, 1),activation='sigmoid', padding='valid',input_shape=input_shape))\n",
    "model_cnn.add(MaxPooling2D(pool_size=(1, 2), strides=(1, 2)))\n",
    "model_cnn.add(Conv2D(100, (1, 3), activation='sigmoid'))\n",
    "model_cnn.add(MaxPooling2D(pool_size=(1, 2)))\n",
    "model_cnn.add(Flatten())\n",
    "model_cnn.add(Dense(1000, activation='sigmoid'))\n",
    "model_cnn.add(Dense(num_classes, activation='softmax'))\n",
    "    \n",
    "model_cnn.compile(loss=keras.losses.categorical_crossentropy, optimizer=Adam(lr=0.001, decay=1e-6), metrics=['accuracy'])\n",
    "monitor = EarlyStopping(monitor='val_loss', min_delta=1e-3, patience=2, verbose=2, mode='auto')\n",
    "\n",
    "start_time = time.time()\n",
    "\n",
    "model_cnn.fit(cnn_x_train,cnn_y_train,\n",
    "              batch_size=batch_size,\n",
    "              epochs=10,\n",
    "              verbose=2,\n",
    "              callbacks=[monitor,checkpointer],\n",
    "              validation_data=(cnn_x_test,cnn_y_test))\n",
    "\n",
    "elapsed_time = time.time() - start_time\n",
    "print(\"Elapsed time: {}\".format(hms_string(elapsed_time)))\n",
    "model_cnn.load_weights('best_weights_cnn_15_sigmoid_nuron50100.hdf5') # load weights from best model"
   ]
  },
  {
   "cell_type": "code",
   "execution_count": 56,
   "metadata": {
    "colab": {
     "base_uri": "https://localhost:8080/",
     "height": 741
    },
    "colab_type": "code",
    "id": "1Hmw1Zbxeq55",
    "outputId": "b91a32ab-10c2-4b50-ed43-45431b8e5054"
   },
   "outputs": [
    {
     "name": "stdout",
     "output_type": "stream",
     "text": [
      "Accuracy: 0.9967029570354089\n",
      "Plotting confusion matrix\n"
     ]
    },
    {
     "data": {
      "image/png": "[encoded data removed]",
      "text/plain": [
       "<matplotlib.figure.Figure at 0x7fc714b364a8>"
      ]
     },
     "metadata": {
      "tags": []
     },
     "output_type": "display_data"
    },
    {
     "name": "stdout",
     "output_type": "stream",
     "text": [
      "             precision    recall  f1-score   support\n",
      "\n",
      "          0       1.00      1.00      1.00     17589\n",
      "          1       1.00      0.99      1.00     11528\n",
      "\n",
      "avg / total       1.00      1.00      1.00     29117\n",
      "\n"
     ]
    },
    {
     "data": {
      "image/png": "[encoded data removed]",
      "text/plain": [
       "<matplotlib.figure.Figure at 0x7fc71372dcc0>"
      ]
     },
     "metadata": {
      "tags": []
     },
     "output_type": "display_data"
    }
   ],
   "source": [
    "# Measure accuracy\n",
    "pred = model_cnn.predict(cnn_x_test)\n",
    "pred_attack = np.argmax(pred,axis=1)\n",
    "y_testarray=cnn_y_test\n",
    "y_true = np.argmax(y_testarray,axis=1)\n",
    "correct = metrics.accuracy_score(y_true, pred_attack)\n",
    "print(\"Accuracy: {}\".format(correct))\n",
    "y_true\n",
    "\n",
    "cm = metrics.confusion_matrix(y_true, pred_attack)  \n",
    "print(cm)\n",
    "\n",
    "print('Plotting confusion matrix')\n",
    "\n",
    "plt.figure()\n",
    "plot_confusion_matrix(cm, outcome)\n",
    "plt.show()\n",
    "\n",
    "print(metrics.classification_report(y_true, pred_attack))\n",
    "\n",
    "plot_roc(pred_attack,y_true)"
   ]
  },
  {
   "cell_type": "markdown",
   "metadata": {
    "colab_type": "text",
    "id": "V_uVr_JNwJKe"
   },
   "source": [
    "## Additional Feature\n",
    "**Multi-Class Classification using CNN**"
   ]
  },
  {
   "cell_type": "code",
   "execution_count": 12,
   "metadata": {
    "colab": {
     "base_uri": "https://localhost:8080/",
     "height": 102
    },
    "colab_type": "code",
    "id": "c196b4RqjqGM",
    "outputId": "16182e21-3587-4d59-cf38-be6be4204776"
   },
   "outputs": [
    {
     "data": {
      "text/plain": [
       "array(['back.', 'buffer_overflow.', 'ftp_write.', 'guess_passwd.',\n",
       "       'imap.', 'ipsweep.', 'land.', 'loadmodule.', 'multihop.',\n",
       "       'neptune.', 'nmap.', 'normal.', 'perl.', 'phf.', 'pod.',\n",
       "       'portsweep.', 'rootkit.', 'satan.', 'smurf.', 'spy.', 'teardrop.',\n",
       "       'warezclient.', 'warezmaster.'], dtype=object)"
      ]
     },
     "execution_count": 12,
     "metadata": {
      "tags": []
     },
     "output_type": "execute_result"
    }
   ],
   "source": [
    "encode_text_index(df_network, 'outcome')\n"
   ]
  },
  {
   "cell_type": "code",
   "execution_count": 0,
   "metadata": {
    "colab": {},
    "colab_type": "code",
    "id": "39zgMP0pkoyn"
   },
   "outputs": [],
   "source": [
    "x,y = to_xy(df_network, 'outcome')"
   ]
  },
  {
   "cell_type": "code",
   "execution_count": 17,
   "metadata": {
    "colab": {
     "base_uri": "https://localhost:8080/",
     "height": 34
    },
    "colab_type": "code",
    "id": "zmDt-JQAl0hl",
    "outputId": "0b473b02-aa3f-4c69-f744-1d21f0844ea3"
   },
   "outputs": [
    {
     "data": {
      "text/plain": [
       "((145585, 121), (145585, 23))"
      ]
     },
     "execution_count": 17,
     "metadata": {
      "tags": []
     },
     "output_type": "execute_result"
    }
   ],
   "source": [
    "x.shape,y.shape"
   ]
  },
  {
   "cell_type": "code",
   "execution_count": 18,
   "metadata": {
    "colab": {
     "base_uri": "https://localhost:8080/",
     "height": 34
    },
    "colab_type": "code",
    "id": "g-zqheaumKJS",
    "outputId": "6b1d96fe-1d27-4d8d-e4c2-75664e59e8e5"
   },
   "outputs": [
    {
     "data": {
      "text/plain": [
       "((116468, 121), (29117, 121), (116468, 23), (29117, 23))"
      ]
     },
     "execution_count": 18,
     "metadata": {
      "tags": []
     },
     "output_type": "execute_result"
    }
   ],
   "source": [
    "from sklearn.model_selection import train_test_split\n",
    "X_Train, X_Test, Y_Train, Y_Test = train_test_split(x, y, test_size=0.2, random_state=42)\n",
    "\n",
    "X_Train.shape, X_Test.shape, Y_Train.shape, Y_Test.shape"
   ]
  },
  {
   "cell_type": "code",
   "execution_count": 0,
   "metadata": {
    "colab": {},
    "colab_type": "code",
    "id": "qnNhF1bSmKqq"
   },
   "outputs": [],
   "source": [
    "Y_Train[0:5]"
   ]
  },
  {
   "cell_type": "code",
   "execution_count": 19,
   "metadata": {
    "colab": {
     "base_uri": "https://localhost:8080/",
     "height": 51
    },
    "colab_type": "code",
    "id": "Ivc_5OyEmrdK",
    "outputId": "0a987964-f3b1-47b2-c8fb-861817d6dae5"
   },
   "outputs": [
    {
     "name": "stdout",
     "output_type": "stream",
     "text": [
      "Shape of x_train: (116468, 1, 121, 1)\n",
      "Shape of x_test: (29117, 1, 121, 1)\n"
     ]
    }
   ],
   "source": [
    "#Reshape 2D\n",
    "cnn_x_train = X_Train.reshape(X_Train.shape[0], 1, X_Train.shape[1], 1)\n",
    "cnn_x_test = X_Test.reshape(X_Test.shape[0], 1 , X_Test.shape[1], 1)\n",
    "#reshape 1D\n",
    "#cnn_x_train = X_Train.reshape(X_Train.shape[0], 1, 1,X_Train.shape[1])\n",
    "#cnn_x_test = X_Test.reshape(X_Test.shape[0], 1 ,1, X_Test.shape[1])\n",
    "\n",
    "print(\"Shape of x_train: {}\".format(cnn_x_train.shape))\n",
    "print(\"Shape of x_test: {}\".format(cnn_x_test.shape))"
   ]
  },
  {
   "cell_type": "code",
   "execution_count": 20,
   "metadata": {
    "colab": {
     "base_uri": "https://localhost:8080/",
     "height": 34
    },
    "colab_type": "code",
    "id": "7EcfeTbHm41l",
    "outputId": "cb581daa-6b32-430a-da3e-581e82380a52"
   },
   "outputs": [
    {
     "data": {
      "text/plain": [
       "(1, 121, 1)"
      ]
     },
     "execution_count": 20,
     "metadata": {
      "tags": []
     },
     "output_type": "execute_result"
    }
   ],
   "source": [
    "# Define batch_size and # of epochs\n",
    "batch_size = 128\n",
    "img_rows= 1\n",
    "img_cols= 121\n",
    "input_shape = (img_rows, img_cols, 1)\n",
    "input_shape"
   ]
  },
  {
   "cell_type": "code",
   "execution_count": 21,
   "metadata": {
    "colab": {
     "base_uri": "https://localhost:8080/",
     "height": 255
    },
    "colab_type": "code",
    "id": "ESUYguK_nJ2I",
    "outputId": "1fd0678d-b718-444a-ed16-a4862bdcee0e"
   },
   "outputs": [
    {
     "name": "stdout",
     "output_type": "stream",
     "text": [
      "WARNING:tensorflow:Variable *= will be deprecated. Use `var.assign(var * other)` if you want assignment to the variable value or `x = x * y` if you want a new python Tensor object.\n",
      "Train on 116468 samples, validate on 29117 samples\n",
      "Epoch 1/10\n",
      " - 10s - loss: 0.0606 - acc: 0.9878 - val_loss: 0.0168 - val_acc: 0.9956\n",
      "Epoch 2/10\n",
      " - 9s - loss: 0.0148 - acc: 0.9960 - val_loss: 0.0114 - val_acc: 0.9971\n",
      "Epoch 3/10\n",
      " - 9s - loss: 0.0111 - acc: 0.9972 - val_loss: 0.0091 - val_acc: 0.9978\n",
      "Epoch 4/10\n",
      " - 9s - loss: 0.0096 - acc: 0.9974 - val_loss: 0.0096 - val_acc: 0.9976\n",
      "Epoch 5/10\n",
      " - 9s - loss: 0.0087 - acc: 0.9975 - val_loss: 0.0086 - val_acc: 0.9975\n",
      "Epoch 00005: early stopping\n",
      "Elapsed time: 0:00:45.44\n"
     ]
    }
   ],
   "source": [
    "#kernal size = 1,3     activation='relu'\n",
    "import time\n",
    "checkpointer = ModelCheckpoint(filepath=\"best_weights_cnn_extra.hdf5\", verbose=0, save_best_only=True) # save best model\n",
    "\n",
    "model_cnn = Sequential()\n",
    "model_cnn.add(Conv2D(32, kernel_size=(1, 3), strides=(1, 1),activation='relu', padding='valid',input_shape=input_shape))\n",
    "model_cnn.add(MaxPooling2D(pool_size=(1, 2), strides=(1, 2)))\n",
    "model_cnn.add(Conv2D(64, (1, 3), activation='relu'))\n",
    "model_cnn.add(MaxPooling2D(pool_size=(1, 2)))\n",
    "model_cnn.add(Flatten())\n",
    "model_cnn.add(Dense(1000, activation='relu'))\n",
    "model_cnn.add(Dense(23, activation='softmax'))\n",
    "    \n",
    "model_cnn.compile(loss=keras.losses.categorical_crossentropy, optimizer=Adam(lr=0.001, decay=1e-6), metrics=['accuracy'])\n",
    "monitor = EarlyStopping(monitor='val_loss', min_delta=1e-3, patience=2, verbose=2, mode='auto')\n",
    "\n",
    "start_time = time.time()\n",
    "\n",
    "model_cnn.fit(cnn_x_train,Y_Train,\n",
    "              batch_size=batch_size,\n",
    "              epochs=10,\n",
    "              verbose=2,\n",
    "              callbacks=[monitor,checkpointer],\n",
    "              validation_data=(cnn_x_test,Y_Test))\n",
    "\n",
    "elapsed_time = time.time() - start_time\n",
    "print(\"Elapsed time: {}\".format(hms_string(elapsed_time)))\n",
    "model_cnn.load_weights('best_weights_cnn_extra.hdf5') # load weights from best model"
   ]
  },
  {
   "cell_type": "code",
   "execution_count": 24,
   "metadata": {
    "colab": {
     "base_uri": "https://localhost:8080/",
     "height": 1620
    },
    "colab_type": "code",
    "id": "tWmjaPJMnUrd",
    "outputId": "dca0db7c-5798-41b6-e72e-92b4e318c5a2",
    "scrolled": true
   },
   "outputs": [
    {
     "name": "stdout",
     "output_type": "stream",
     "text": [
      "Accuracy: 0.997458529381461\n",
      "[[  191     0     0     0     0     0     0     0     0     0     0     0\n",
      "      0     0     0     0     0     0     0     0     0]\n",
      " [    0     3     0     0     0     0     0     0     0     0     2     0\n",
      "      0     0     0     0     0     0     0     1     0]\n",
      " [    0     0     0     0     0     0     0     0     0     0     3     0\n",
      "      0     0     0     0     0     0     0     2     0]\n",
      " [    0     0     0    10     0     0     0     0     0     0     0     0\n",
      "      0     0     0     0     0     0     0     0     0]\n",
      " [    0     0     0     0     1     0     0     0     0     0     0     0\n",
      "      0     0     0     0     0     0     0     0     0]\n",
      " [    0     0     0     0     0   118     0     0     0     2    17     0\n",
      "      0     0     0     0     0     0     0     0     0]\n",
      " [    0     0     0     0     0     0     2     0     0     0     0     0\n",
      "      0     0     0     0     0     0     0     0     0]\n",
      " [    0     0     0     0     0     0     0     0     0     0     2     0\n",
      "      0     0     0     0     0     0     0     0     0]\n",
      " [    0     0     0     0     0     0     0     0 10357     0     0     0\n",
      "      0     0     0     0     0     0     0     0     0]\n",
      " [    0     0     0     0     0     1     0     0     0    35     2     0\n",
      "      0     0     0     0     0     0     0     0     0]\n",
      " [    1     0     0     1     0     0     0     0     0     0 17571     1\n",
      "      4     0     1     0     0     0     0    10     0]\n",
      " [    0     0     0     0     0     0     0     0     0     0     0     0\n",
      "      0     0     0     0     0     0     0     0     0]\n",
      " [    0     0     0     0     0     0     0     0     0     0     0     0\n",
      "      0     0     0     0     0     0     0     0     0]\n",
      " [    0     0     0     0     0     0     0     0     0     0     0     0\n",
      "      0    34     0     0     0     0     0     0     0]\n",
      " [    0     0     0     0     0     0     0     0     2     0     2     0\n",
      "      0     0    87     0     0     0     1     0     0]\n",
      " [    0     0     0     0     0     0     0     0     0     0     0     0\n",
      "      0     0     0     1     0     0     0     0     0]\n",
      " [    0     0     0     0     0     0     0     0     0     1     3     0\n",
      "      0     0     0     0   154     0     0     0     0]\n",
      " [    0     0     0     0     0     0     0     0     0     0     1     0\n",
      "      0     0     0     0     0   131     0     0     0]\n",
      " [    0     0     0     0     0     0     0     0     0     0     0     0\n",
      "      0     0     0     0     0     0   208     0     0]\n",
      " [    0     0     0     0     0     0     0     0     0     0    14     0\n",
      "      0     0     0     0     0     0     0   136     0]\n",
      " [    0     0     0     0     0     0     0     0     0     0     0     0\n",
      "      0     0     0     0     0     0     0     0     4]]\n",
      "Plotting confusion matrix\n"
     ]
    },
    {
     "data": {
      "image/png": "[encoded data removed]",
      "text/plain": [
       "<matplotlib.figure.Figure at 0x7ffa4f6e8c88>"
      ]
     },
     "metadata": {
      "tags": []
     },
     "output_type": "display_data"
    },
    {
     "name": "stdout",
     "output_type": "stream",
     "text": [
      "             precision    recall  f1-score   support\n",
      "\n",
      "          0       0.99      1.00      1.00       191\n",
      "          1       1.00      0.50      0.67         6\n",
      "          2       0.00      0.00      0.00         5\n",
      "          3       0.91      1.00      0.95        10\n",
      "          4       1.00      1.00      1.00         1\n",
      "          5       0.99      0.86      0.92       137\n",
      "          6       1.00      1.00      1.00         2\n",
      "          8       0.00      0.00      0.00         2\n",
      "          9       1.00      1.00      1.00     10357\n",
      "         10       0.92      0.92      0.92        38\n",
      "         11       1.00      1.00      1.00     17589\n",
      "         12       0.00      0.00      0.00         0\n",
      "         13       0.00      0.00      0.00         0\n",
      "         14       1.00      1.00      1.00        34\n",
      "         15       0.99      0.95      0.97        92\n",
      "         16       1.00      1.00      1.00         1\n",
      "         17       1.00      0.97      0.99       158\n",
      "         18       1.00      0.99      1.00       132\n",
      "         20       1.00      1.00      1.00       208\n",
      "         21       0.91      0.91      0.91       150\n",
      "         22       1.00      1.00      1.00         4\n",
      "\n",
      "avg / total       1.00      1.00      1.00     29117\n",
      "\n"
     ]
    },
    {
     "name": "stderr",
     "output_type": "stream",
     "text": [
      "/usr/local/lib/python3.6/dist-packages/sklearn/metrics/classification.py:1135: UndefinedMetricWarning: Precision and F-score are ill-defined and being set to 0.0 in labels with no predicted samples.\n",
      "  'precision', 'predicted', average, warn_for)\n",
      "/usr/local/lib/python3.6/dist-packages/sklearn/metrics/classification.py:1137: UndefinedMetricWarning: Recall and F-score are ill-defined and being set to 0.0 in labels with no true samples.\n",
      "  'recall', 'true', average, warn_for)\n"
     ]
    }
   ],
   "source": [
    "# Measure accuracy\n",
    "pred = model_cnn.predict(cnn_x_test)\n",
    "pred_attack = np.argmax(pred,axis=1)\n",
    "y_testarray=Y_Test\n",
    "y_true = np.argmax(y_testarray,axis=1)\n",
    "correct = metrics.accuracy_score(y_true, pred_attack)\n",
    "print(\"Accuracy: {}\".format(correct))\n",
    "y_true\n",
    "\n",
    "cm = metrics.confusion_matrix(y_true, pred_attack)  \n",
    "print(cm)\n",
    "\n",
    "print('Plotting confusion matrix')\n",
    "\n",
    "plt.figure()\n",
    "plot_confusion_matrix(cm, outcome)\n",
    "plt.show()\n",
    "\n",
    "print(metrics.classification_report(y_true, pred_attack))"
   ]
  },
  {
   "cell_type": "markdown",
   "metadata": {},
   "source": [
    "**Feature Importance Analysis using Tensorflow Fully Connected Network** "
   ]
  },
  {
   "cell_type": "code",
   "execution_count": 125,
   "metadata": {
    "colab": {
     "base_uri": "https://localhost:8080/",
     "height": 680
    },
    "colab_type": "code",
    "id": "1dRCUVrArYMp",
    "outputId": "f467b41f-25a9-432e-fb50-74efbbaf631e",
    "scrolled": true
   },
   "outputs": [
    {
     "name": "stdout",
     "output_type": "stream",
     "text": [
      "0\n",
      "Train on 116468 samples, validate on 29117 samples\n",
      "Epoch 1/150\n",
      " - 25s - loss: 0.0370 - val_loss: 0.0183\n",
      "Epoch 2/150\n",
      " - 24s - loss: 0.0120 - val_loss: 0.0103\n",
      "Epoch 3/150\n",
      " - 25s - loss: 0.0080 - val_loss: 0.0092\n",
      "Epoch 4/150\n",
      " - 25s - loss: 0.0068 - val_loss: 0.0071\n",
      "Epoch 5/150\n",
      " - 27s - loss: 0.0061 - val_loss: 0.0068\n",
      "Epoch 6/150\n",
      " - 26s - loss: 0.0056 - val_loss: 0.0067\n",
      "Epoch 00006: early stopping\n",
      "1\n",
      "Train on 116468 samples, validate on 29117 samples\n",
      "Epoch 1/150\n",
      " - 25s - loss: 0.0349 - val_loss: 0.0122\n",
      "Epoch 2/150\n",
      " - 26s - loss: 0.0104 - val_loss: 0.0080\n",
      "Epoch 3/150\n",
      " - 26s - loss: 0.0075 - val_loss: 0.0075\n",
      "Epoch 4/150\n",
      " - 26s - loss: 0.0068 - val_loss: 0.0089\n",
      "Epoch 00004: early stopping\n",
      "2\n",
      "Train on 116468 samples, validate on 29117 samples\n",
      "Epoch 1/150\n",
      " - 26s - loss: 0.0355 - val_loss: 0.0202\n",
      "Epoch 2/150\n",
      " - 24s - loss: 0.0105 - val_loss: 0.0080\n",
      "Epoch 3/150\n",
      " - 23s - loss: 0.0076 - val_loss: 0.0072\n",
      "Epoch 4/150\n",
      " - 24s - loss: 0.0066 - val_loss: 0.0254\n",
      "Epoch 00004: early stopping\n",
      "Training finished...Loading the best model\n",
      "\n"
     ]
    }
   ],
   "source": [
    "#feature Extraction\n",
    "# Activation=relu && optimizer = adam\n",
    "checkpointer = ModelCheckpoint(filepath=\"best_weights_feature_ext.hdf5\", verbose=0, save_best_only=True) # save best model\n",
    "for i in range(3):\n",
    "    print(i)\n",
    "    model_adam_relu = Sequential()\n",
    "    model_adam_relu.add(Dense(50, input_dim=x.shape[1], activation='relu')) # Hidden 1\n",
    "    model_adam_relu.add(Dense(20, activation='relu')) # Hidden 2\n",
    "    model_adam_relu.add(Dense(y.shape[1], activation='softmax')) # Output\n",
    "    #rms=keras.optimizers.RMSprop(lr=0.001, rho=0.9, epsilon=None, decay=0.0)\n",
    "    adam = optimizers.Adam(lr=0.001, beta_1=0.9, beta_2=0.999, epsilon=None, amsgrad=False)\n",
    "    model_adam_relu.compile(loss='categorical_crossentropy', optimizer=adam)\n",
    "    monitor = EarlyStopping(monitor='val_loss', min_delta=1e-3, patience=2, verbose=2, mode='auto')\n",
    "    model_adam_relu.fit(x_train, y_train,validation_data=(x_test,y_test),callbacks=[monitor,checkpointer],verbose=2,epochs=150)\n",
    "print('Training finished...Loading the best model')  \n",
    "print()\n",
    "model_adam_relu.load_weights('best_weights_feature_ext.hdf5') # load weights from best model"
   ]
  },
  {
   "cell_type": "code",
   "execution_count": 126,
   "metadata": {
    "colab": {
     "base_uri": "https://localhost:8080/",
     "height": 775
    },
    "colab_type": "code",
    "id": "546ulUbT-YsU",
    "outputId": "0be00e2c-981e-4e04-f2d5-585631e02ad4"
   },
   "outputs": [
    {
     "name": "stdout",
     "output_type": "stream",
     "text": [
      "Accuracy: 0.9980767249373218\n",
      "[[17542    31]\n",
      " [   25 11519]]\n",
      "Plotting confusion matrix\n"
     ]
    },
    {
     "data": {
      "image/png": "[encoded data removed]",
      "text/plain": [
       "<matplotlib.figure.Figure at 0x7f807af794e0>"
      ]
     },
     "metadata": {
      "tags": []
     },
     "output_type": "display_data"
    },
    {
     "name": "stdout",
     "output_type": "stream",
     "text": [
      "             precision    recall  f1-score   support\n",
      "\n",
      "          0       1.00      1.00      1.00     17573\n",
      "          1       1.00      1.00      1.00     11544\n",
      "\n",
      "avg / total       1.00      1.00      1.00     29117\n",
      "\n"
     ]
    },
    {
     "data": {
      "image/png": "[encoded data removed]",
      "text/plain": [
       "<matplotlib.figure.Figure at 0x7f8076ef1c18>"
      ]
     },
     "metadata": {
      "tags": []
     },
     "output_type": "display_data"
    }
   ],
   "source": [
    "# Measure accuracy\n",
    "pred = model_adam_relu.predict(x_test)\n",
    "pred_attack = np.argmax(pred,axis=1)\n",
    "y_testarray=y_test.values\n",
    "y_true = np.argmax(y_testarray,axis=1)\n",
    "correct = metrics.accuracy_score(y_true, pred_attack)\n",
    "print(\"Accuracy: {}\".format(correct))\n",
    "y_true\n",
    "\n",
    "cm = metrics.confusion_matrix(y_true, pred_attack)  \n",
    "print(cm)\n",
    "\n",
    "print('Plotting confusion matrix')\n",
    "\n",
    "plt.figure()\n",
    "plot_confusion_matrix(cm,outcome)\n",
    "plt.show()\n",
    "\n",
    "print(metrics.classification_report(y_true, pred_attack))\n",
    "\n",
    "plot_roc(pred_attack,y_true)"
   ]
  },
  {
   "cell_type": "code",
   "execution_count": 127,
   "metadata": {
    "colab": {
     "base_uri": "https://localhost:8080/",
     "height": 1969
    },
    "colab_type": "code",
    "id": "3uIyHIzd-dcw",
    "outputId": "23909495-0f0d-4fdf-f9d1-115184702d58"
   },
   "outputs": [
    {
     "data": {
      "text/html": [
       "<div>\n",
       "<style scoped>\n",
       "    .dataframe tbody tr th:only-of-type {\n",
       "        vertical-align: middle;\n",
       "    }\n",
       "\n",
       "    .dataframe tbody tr th {\n",
       "        vertical-align: top;\n",
       "    }\n",
       "\n",
       "    .dataframe thead th {\n",
       "        text-align: right;\n",
       "    }\n",
       "</style>\n",
       "<table border=\"1\" class=\"dataframe\">\n",
       "  <thead>\n",
       "    <tr style=\"text-align: right;\">\n",
       "      <th></th>\n",
       "      <th>name</th>\n",
       "      <th>error</th>\n",
       "      <th>importance</th>\n",
       "    </tr>\n",
       "  </thead>\n",
       "  <tbody>\n",
       "    <tr>\n",
       "      <th>0</th>\n",
       "      <td>dst_host_srv_count</td>\n",
       "      <td>0.357973</td>\n",
       "      <td>1.000000</td>\n",
       "    </tr>\n",
       "    <tr>\n",
       "      <th>1</th>\n",
       "      <td>srv_rerror_rate</td>\n",
       "      <td>0.132289</td>\n",
       "      <td>0.369551</td>\n",
       "    </tr>\n",
       "    <tr>\n",
       "      <th>2</th>\n",
       "      <td>wrong_fragment</td>\n",
       "      <td>0.064941</td>\n",
       "      <td>0.181412</td>\n",
       "    </tr>\n",
       "    <tr>\n",
       "      <th>3</th>\n",
       "      <td>hot</td>\n",
       "      <td>0.058136</td>\n",
       "      <td>0.162404</td>\n",
       "    </tr>\n",
       "    <tr>\n",
       "      <th>4</th>\n",
       "      <td>dst_host_same_src_port_rate</td>\n",
       "      <td>0.044542</td>\n",
       "      <td>0.124429</td>\n",
       "    </tr>\n",
       "    <tr>\n",
       "      <th>5</th>\n",
       "      <td>flag-REJ</td>\n",
       "      <td>0.040265</td>\n",
       "      <td>0.112479</td>\n",
       "    </tr>\n",
       "    <tr>\n",
       "      <th>6</th>\n",
       "      <td>dst_host_count</td>\n",
       "      <td>0.038625</td>\n",
       "      <td>0.107899</td>\n",
       "    </tr>\n",
       "    <tr>\n",
       "      <th>7</th>\n",
       "      <td>dst_host_rerror_rate</td>\n",
       "      <td>0.030006</td>\n",
       "      <td>0.083821</td>\n",
       "    </tr>\n",
       "    <tr>\n",
       "      <th>8</th>\n",
       "      <td>dst_host_srv_serror_rate</td>\n",
       "      <td>0.024467</td>\n",
       "      <td>0.068348</td>\n",
       "    </tr>\n",
       "    <tr>\n",
       "      <th>9</th>\n",
       "      <td>count</td>\n",
       "      <td>0.023925</td>\n",
       "      <td>0.066834</td>\n",
       "    </tr>\n",
       "    <tr>\n",
       "      <th>10</th>\n",
       "      <td>service-http</td>\n",
       "      <td>0.023685</td>\n",
       "      <td>0.066164</td>\n",
       "    </tr>\n",
       "    <tr>\n",
       "      <th>11</th>\n",
       "      <td>dst_host_diff_srv_rate</td>\n",
       "      <td>0.020210</td>\n",
       "      <td>0.056458</td>\n",
       "    </tr>\n",
       "    <tr>\n",
       "      <th>12</th>\n",
       "      <td>service-smtp</td>\n",
       "      <td>0.014921</td>\n",
       "      <td>0.041683</td>\n",
       "    </tr>\n",
       "    <tr>\n",
       "      <th>13</th>\n",
       "      <td>service-domain_u</td>\n",
       "      <td>0.014494</td>\n",
       "      <td>0.040489</td>\n",
       "    </tr>\n",
       "    <tr>\n",
       "      <th>14</th>\n",
       "      <td>service-ftp_data</td>\n",
       "      <td>0.014380</td>\n",
       "      <td>0.040171</td>\n",
       "    </tr>\n",
       "    <tr>\n",
       "      <th>15</th>\n",
       "      <td>flag-SF</td>\n",
       "      <td>0.014217</td>\n",
       "      <td>0.039715</td>\n",
       "    </tr>\n",
       "    <tr>\n",
       "      <th>16</th>\n",
       "      <td>dst_host_srv_rerror_rate</td>\n",
       "      <td>0.012600</td>\n",
       "      <td>0.035198</td>\n",
       "    </tr>\n",
       "    <tr>\n",
       "      <th>17</th>\n",
       "      <td>service-ftp</td>\n",
       "      <td>0.011315</td>\n",
       "      <td>0.031609</td>\n",
       "    </tr>\n",
       "    <tr>\n",
       "      <th>18</th>\n",
       "      <td>dst_host_srv_diff_host_rate</td>\n",
       "      <td>0.010847</td>\n",
       "      <td>0.030301</td>\n",
       "    </tr>\n",
       "    <tr>\n",
       "      <th>19</th>\n",
       "      <td>dst_host_serror_rate</td>\n",
       "      <td>0.010750</td>\n",
       "      <td>0.030029</td>\n",
       "    </tr>\n",
       "    <tr>\n",
       "      <th>20</th>\n",
       "      <td>is_guest_login-1</td>\n",
       "      <td>0.010584</td>\n",
       "      <td>0.029567</td>\n",
       "    </tr>\n",
       "    <tr>\n",
       "      <th>21</th>\n",
       "      <td>service-private</td>\n",
       "      <td>0.010422</td>\n",
       "      <td>0.029113</td>\n",
       "    </tr>\n",
       "    <tr>\n",
       "      <th>22</th>\n",
       "      <td>dst_host_same_srv_rate</td>\n",
       "      <td>0.010280</td>\n",
       "      <td>0.028719</td>\n",
       "    </tr>\n",
       "    <tr>\n",
       "      <th>23</th>\n",
       "      <td>service-other</td>\n",
       "      <td>0.010103</td>\n",
       "      <td>0.028222</td>\n",
       "    </tr>\n",
       "    <tr>\n",
       "      <th>24</th>\n",
       "      <td>service-finger</td>\n",
       "      <td>0.009461</td>\n",
       "      <td>0.026431</td>\n",
       "    </tr>\n",
       "    <tr>\n",
       "      <th>25</th>\n",
       "      <td>logged_in-1</td>\n",
       "      <td>0.009027</td>\n",
       "      <td>0.025218</td>\n",
       "    </tr>\n",
       "    <tr>\n",
       "      <th>26</th>\n",
       "      <td>serror_rate</td>\n",
       "      <td>0.009026</td>\n",
       "      <td>0.025215</td>\n",
       "    </tr>\n",
       "    <tr>\n",
       "      <th>27</th>\n",
       "      <td>srv_diff_host_rate</td>\n",
       "      <td>0.008581</td>\n",
       "      <td>0.023970</td>\n",
       "    </tr>\n",
       "    <tr>\n",
       "      <th>28</th>\n",
       "      <td>service-ntp_u</td>\n",
       "      <td>0.008577</td>\n",
       "      <td>0.023959</td>\n",
       "    </tr>\n",
       "    <tr>\n",
       "      <th>29</th>\n",
       "      <td>service-urp_i</td>\n",
       "      <td>0.008516</td>\n",
       "      <td>0.023789</td>\n",
       "    </tr>\n",
       "    <tr>\n",
       "      <th>...</th>\n",
       "      <td>...</td>\n",
       "      <td>...</td>\n",
       "      <td>...</td>\n",
       "    </tr>\n",
       "    <tr>\n",
       "      <th>91</th>\n",
       "      <td>service-uucp_path</td>\n",
       "      <td>0.006810</td>\n",
       "      <td>0.019023</td>\n",
       "    </tr>\n",
       "    <tr>\n",
       "      <th>92</th>\n",
       "      <td>service-sql_net</td>\n",
       "      <td>0.006810</td>\n",
       "      <td>0.019022</td>\n",
       "    </tr>\n",
       "    <tr>\n",
       "      <th>93</th>\n",
       "      <td>service-printer</td>\n",
       "      <td>0.006809</td>\n",
       "      <td>0.019021</td>\n",
       "    </tr>\n",
       "    <tr>\n",
       "      <th>94</th>\n",
       "      <td>service-gopher</td>\n",
       "      <td>0.006808</td>\n",
       "      <td>0.019019</td>\n",
       "    </tr>\n",
       "    <tr>\n",
       "      <th>95</th>\n",
       "      <td>service-link</td>\n",
       "      <td>0.006807</td>\n",
       "      <td>0.019016</td>\n",
       "    </tr>\n",
       "    <tr>\n",
       "      <th>96</th>\n",
       "      <td>service-vmnet</td>\n",
       "      <td>0.006807</td>\n",
       "      <td>0.019016</td>\n",
       "    </tr>\n",
       "    <tr>\n",
       "      <th>97</th>\n",
       "      <td>flag-OTH</td>\n",
       "      <td>0.006807</td>\n",
       "      <td>0.019016</td>\n",
       "    </tr>\n",
       "    <tr>\n",
       "      <th>98</th>\n",
       "      <td>service-ldap</td>\n",
       "      <td>0.006807</td>\n",
       "      <td>0.019016</td>\n",
       "    </tr>\n",
       "    <tr>\n",
       "      <th>99</th>\n",
       "      <td>service-bgp</td>\n",
       "      <td>0.006807</td>\n",
       "      <td>0.019016</td>\n",
       "    </tr>\n",
       "    <tr>\n",
       "      <th>100</th>\n",
       "      <td>flag-S3</td>\n",
       "      <td>0.006807</td>\n",
       "      <td>0.019016</td>\n",
       "    </tr>\n",
       "    <tr>\n",
       "      <th>101</th>\n",
       "      <td>service-daytime</td>\n",
       "      <td>0.006807</td>\n",
       "      <td>0.019015</td>\n",
       "    </tr>\n",
       "    <tr>\n",
       "      <th>102</th>\n",
       "      <td>flag-RSTOS0</td>\n",
       "      <td>0.006807</td>\n",
       "      <td>0.019015</td>\n",
       "    </tr>\n",
       "    <tr>\n",
       "      <th>103</th>\n",
       "      <td>service-tim_i</td>\n",
       "      <td>0.006807</td>\n",
       "      <td>0.019015</td>\n",
       "    </tr>\n",
       "    <tr>\n",
       "      <th>104</th>\n",
       "      <td>num_outbound_cmds</td>\n",
       "      <td>0.006807</td>\n",
       "      <td>0.019015</td>\n",
       "    </tr>\n",
       "    <tr>\n",
       "      <th>105</th>\n",
       "      <td>is_host_login-0</td>\n",
       "      <td>0.006807</td>\n",
       "      <td>0.019015</td>\n",
       "    </tr>\n",
       "    <tr>\n",
       "      <th>106</th>\n",
       "      <td>service-tftp_u</td>\n",
       "      <td>0.006807</td>\n",
       "      <td>0.019015</td>\n",
       "    </tr>\n",
       "    <tr>\n",
       "      <th>107</th>\n",
       "      <td>service-pm_dump</td>\n",
       "      <td>0.006807</td>\n",
       "      <td>0.019015</td>\n",
       "    </tr>\n",
       "    <tr>\n",
       "      <th>108</th>\n",
       "      <td>service-red_i</td>\n",
       "      <td>0.006807</td>\n",
       "      <td>0.019015</td>\n",
       "    </tr>\n",
       "    <tr>\n",
       "      <th>109</th>\n",
       "      <td>service-shell</td>\n",
       "      <td>0.006807</td>\n",
       "      <td>0.019015</td>\n",
       "    </tr>\n",
       "    <tr>\n",
       "      <th>110</th>\n",
       "      <td>service-ctf</td>\n",
       "      <td>0.006807</td>\n",
       "      <td>0.019015</td>\n",
       "    </tr>\n",
       "    <tr>\n",
       "      <th>111</th>\n",
       "      <td>service-Z39_50</td>\n",
       "      <td>0.006807</td>\n",
       "      <td>0.019015</td>\n",
       "    </tr>\n",
       "    <tr>\n",
       "      <th>112</th>\n",
       "      <td>service-pop_2</td>\n",
       "      <td>0.006807</td>\n",
       "      <td>0.019015</td>\n",
       "    </tr>\n",
       "    <tr>\n",
       "      <th>113</th>\n",
       "      <td>src_bytes</td>\n",
       "      <td>0.006807</td>\n",
       "      <td>0.019015</td>\n",
       "    </tr>\n",
       "    <tr>\n",
       "      <th>114</th>\n",
       "      <td>service-efs</td>\n",
       "      <td>0.006786</td>\n",
       "      <td>0.018956</td>\n",
       "    </tr>\n",
       "    <tr>\n",
       "      <th>115</th>\n",
       "      <td>num_access_files</td>\n",
       "      <td>0.006768</td>\n",
       "      <td>0.018906</td>\n",
       "    </tr>\n",
       "    <tr>\n",
       "      <th>116</th>\n",
       "      <td>urgent</td>\n",
       "      <td>0.006768</td>\n",
       "      <td>0.018906</td>\n",
       "    </tr>\n",
       "    <tr>\n",
       "      <th>117</th>\n",
       "      <td>num_failed_logins</td>\n",
       "      <td>0.006768</td>\n",
       "      <td>0.018905</td>\n",
       "    </tr>\n",
       "    <tr>\n",
       "      <th>118</th>\n",
       "      <td>service-mtp</td>\n",
       "      <td>0.006724</td>\n",
       "      <td>0.018784</td>\n",
       "    </tr>\n",
       "    <tr>\n",
       "      <th>119</th>\n",
       "      <td>su_attempted</td>\n",
       "      <td>0.006663</td>\n",
       "      <td>0.018612</td>\n",
       "    </tr>\n",
       "    <tr>\n",
       "      <th>120</th>\n",
       "      <td>service-X11</td>\n",
       "      <td>0.006645</td>\n",
       "      <td>0.018564</td>\n",
       "    </tr>\n",
       "  </tbody>\n",
       "</table>\n",
       "<p>121 rows × 3 columns</p>\n",
       "</div>"
      ],
      "text/plain": [
       "                            name     error  importance\n",
       "0             dst_host_srv_count  0.357973    1.000000\n",
       "1                srv_rerror_rate  0.132289    0.369551\n",
       "2                 wrong_fragment  0.064941    0.181412\n",
       "3                            hot  0.058136    0.162404\n",
       "4    dst_host_same_src_port_rate  0.044542    0.124429\n",
       "5                       flag-REJ  0.040265    0.112479\n",
       "6                 dst_host_count  0.038625    0.107899\n",
       "7           dst_host_rerror_rate  0.030006    0.083821\n",
       "8       dst_host_srv_serror_rate  0.024467    0.068348\n",
       "9                          count  0.023925    0.066834\n",
       "10                  service-http  0.023685    0.066164\n",
       "11        dst_host_diff_srv_rate  0.020210    0.056458\n",
       "12                  service-smtp  0.014921    0.041683\n",
       "13              service-domain_u  0.014494    0.040489\n",
       "14              service-ftp_data  0.014380    0.040171\n",
       "15                       flag-SF  0.014217    0.039715\n",
       "16      dst_host_srv_rerror_rate  0.012600    0.035198\n",
       "17                   service-ftp  0.011315    0.031609\n",
       "18   dst_host_srv_diff_host_rate  0.010847    0.030301\n",
       "19          dst_host_serror_rate  0.010750    0.030029\n",
       "20              is_guest_login-1  0.010584    0.029567\n",
       "21               service-private  0.010422    0.029113\n",
       "22        dst_host_same_srv_rate  0.010280    0.028719\n",
       "23                 service-other  0.010103    0.028222\n",
       "24                service-finger  0.009461    0.026431\n",
       "25                   logged_in-1  0.009027    0.025218\n",
       "26                   serror_rate  0.009026    0.025215\n",
       "27            srv_diff_host_rate  0.008581    0.023970\n",
       "28                 service-ntp_u  0.008577    0.023959\n",
       "29                 service-urp_i  0.008516    0.023789\n",
       "..                           ...       ...         ...\n",
       "91             service-uucp_path  0.006810    0.019023\n",
       "92               service-sql_net  0.006810    0.019022\n",
       "93               service-printer  0.006809    0.019021\n",
       "94                service-gopher  0.006808    0.019019\n",
       "95                  service-link  0.006807    0.019016\n",
       "96                 service-vmnet  0.006807    0.019016\n",
       "97                      flag-OTH  0.006807    0.019016\n",
       "98                  service-ldap  0.006807    0.019016\n",
       "99                   service-bgp  0.006807    0.019016\n",
       "100                      flag-S3  0.006807    0.019016\n",
       "101              service-daytime  0.006807    0.019015\n",
       "102                  flag-RSTOS0  0.006807    0.019015\n",
       "103                service-tim_i  0.006807    0.019015\n",
       "104            num_outbound_cmds  0.006807    0.019015\n",
       "105              is_host_login-0  0.006807    0.019015\n",
       "106               service-tftp_u  0.006807    0.019015\n",
       "107              service-pm_dump  0.006807    0.019015\n",
       "108                service-red_i  0.006807    0.019015\n",
       "109                service-shell  0.006807    0.019015\n",
       "110                  service-ctf  0.006807    0.019015\n",
       "111               service-Z39_50  0.006807    0.019015\n",
       "112                service-pop_2  0.006807    0.019015\n",
       "113                    src_bytes  0.006807    0.019015\n",
       "114                  service-efs  0.006786    0.018956\n",
       "115             num_access_files  0.006768    0.018906\n",
       "116                       urgent  0.006768    0.018906\n",
       "117            num_failed_logins  0.006768    0.018905\n",
       "118                  service-mtp  0.006724    0.018784\n",
       "119                 su_attempted  0.006663    0.018612\n",
       "120                  service-X11  0.006645    0.018564\n",
       "\n",
       "[121 rows x 3 columns]"
      ]
     },
     "execution_count": 127,
     "metadata": {
      "tags": []
     },
     "output_type": "execute_result"
    }
   ],
   "source": [
    "# Rank the features\n",
    "# from IPython.display import display, HTML\n",
    "\n",
    "names = list(df_network.columns) # x+y column names\n",
    "names.remove(\"outcome\") # remove the target(y)\n",
    "rank = perturbation_rank(model_adam_relu, x_test, y_true, names, False)\n",
    "rank"
   ]
  },
  {
   "cell_type": "code",
   "execution_count": 129,
   "metadata": {
    "colab": {
     "base_uri": "https://localhost:8080/",
     "height": 294
    },
    "colab_type": "code",
    "id": "7Csq_OY2-hAp",
    "outputId": "726095ee-653b-45df-a5ec-6b5a91ec4f18"
   },
   "outputs": [
    {
     "data": {
      "image/png": "[encoded data removed]",
      "text/plain": [
       "<matplotlib.figure.Figure at 0x7f8076cf48d0>"
      ]
     },
     "metadata": {
      "tags": []
     },
     "output_type": "display_data"
    }
   ],
   "source": [
    "objects = rank['name']\n",
    "y_pos = np.arange(len(objects))\n",
    "performance = rank['importance']\n",
    " \n",
    "plt.barh(y_pos, performance, align='center', alpha=0.5)\n",
    "plt.yticks(y_pos, objects)\n",
    "plt.xlabel('Importance')\n",
    "plt.ylabel('Name')\n",
    "plt.title('Feature Importance Analysis')\n",
    " \n",
    "plt.show()"
   ]
  }
 ],
 "metadata": {
  "accelerator": "GPU",
  "colab": {
   "collapsed_sections": [],
   "name": "MiniProject-3.ipynb",
   "provenance": [],
   "toc_visible": true,
   "version": "0.3.2"
  },
  "kernelspec": {
   "display_name": "Python 3",
   "language": "python",
   "name": "python3"
  },
  "language_info": {
   "codemirror_mode": {
    "name": "ipython",
    "version": 3
   },
   "file_extension": ".py",
   "mimetype": "text/x-python",
   "name": "python",
   "nbconvert_exporter": "python",
   "pygments_lexer": "ipython3",
   "version": "3.6.5"
  }
 },
 "nbformat": 4,
 "nbformat_minor": 1
}
